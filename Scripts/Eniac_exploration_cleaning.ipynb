{
  "nbformat": 4,
  "nbformat_minor": 0,
  "metadata": {
    "colab": {
      "provenance": [],
      "mount_file_id": "1uPcOblHgpzpLX44CbsD8IceQnh9yOX63",
      "authorship_tag": "ABX9TyNC1wRRI/L9eD1Pnj2tzohk"
    },
    "kernelspec": {
      "name": "python3",
      "display_name": "Python 3"
    },
    "language_info": {
      "name": "python"
    }
  },
  "cells": [
    {
      "cell_type": "markdown",
      "source": [
        "# Pre-work steps"
      ],
      "metadata": {
        "id": "cb6WipNQnqxm"
      }
    },
    {
      "cell_type": "code",
      "execution_count": null,
      "metadata": {
        "id": "qixXagfodkbk"
      },
      "outputs": [],
      "source": [
        "import pandas as pd"
      ]
    },
    {
      "cell_type": "markdown",
      "source": [
        "Defining Pandas display format"
      ],
      "metadata": {
        "id": "e_tSZb8lnfpT"
      }
    },
    {
      "cell_type": "code",
      "source": [
        "pd.set_option('display.float_format', lambda x: '%.2f' % x)\n",
        "pd.set_option('display.max_rows', 1000)"
      ],
      "metadata": {
        "id": "NHNhSbjqneQw"
      },
      "execution_count": null,
      "outputs": []
    },
    {
      "cell_type": "markdown",
      "source": [
        "Cleaned DataFrames"
      ],
      "metadata": {
        "id": "2reYh91VnWHX"
      }
    },
    {
      "cell_type": "code",
      "source": [
        "# orders_clean_df.csv\n",
        "url = \"https://drive.google.com/file/d/1ZEuWF3-pKYC-i6fP8unAAG_JMqU2KEyc/view?usp=sharing\"\n",
        "path = \"https://drive.google.com/uc?export=download&id=\"+url.split(\"/\")[-2]\n",
        "orders_cl = pd.read_csv(path)\n",
        "\n",
        "# orderlines_clean_df.csv\n",
        "url = \"https://drive.google.com/file/d/1IbRAfLGhL7Yf_b8CVkknwhnzsdTBeCIt/view?usp=sharing\"\n",
        "path = \"https://drive.google.com/uc?export=download&id=\"+url.split(\"/\")[-2]\n",
        "orderlines_cl = pd.read_csv(path)\n",
        "\n",
        "# products_clean_df.csv\n",
        "url = \"https://drive.google.com/file/d/1tI_l4w1Nh5VjovBc60DCLdh1_OnpAXoN/view?usp=sharing\"\n",
        "path = \"https://drive.google.com/uc?export=download&id=\"+url.split(\"/\")[-2]\n",
        "products_cl = pd.read_csv(path)\n",
        "\n",
        "# brands_clean_df.csv\n",
        "url = \"https://drive.google.com/file/d/1V33HMpSmSLjWSzmGv4is26QKIC_cqNpk/view?usp=sharing\"\n",
        "path = \"https://drive.google.com/uc?export=download&id=\"+url.split(\"/\")[-2]\n",
        "brands_cl = pd.read_csv(path)\n"
      ],
      "metadata": {
        "id": "sCir602SmuEW"
      },
      "execution_count": null,
      "outputs": []
    },
    {
      "cell_type": "markdown",
      "source": [
        "Creating copies of the DataFrames for manipulation"
      ],
      "metadata": {
        "id": "u1H10G8koFxb"
      }
    },
    {
      "cell_type": "code",
      "source": [
        "o_df=orders_cl.copy()\n",
        "ol_df=orderlines_cl.copy()\n",
        "p_df=products_cl.copy()\n",
        "b_df=brands_cl.copy()"
      ],
      "metadata": {
        "id": "xwfUJjhDoFcK"
      },
      "execution_count": null,
      "outputs": []
    },
    {
      "cell_type": "code",
      "source": [
        "o_df.shape"
      ],
      "metadata": {
        "colab": {
          "base_uri": "https://localhost:8080/"
        },
        "id": "EkAUQ8iU5X_T",
        "outputId": "0a050537-ae6f-4064-cb84-d85f6d7cf0a4"
      },
      "execution_count": null,
      "outputs": [
        {
          "output_type": "execute_result",
          "data": {
            "text/plain": [
              "(40985, 4)"
            ]
          },
          "metadata": {},
          "execution_count": 5
        }
      ]
    },
    {
      "cell_type": "code",
      "source": [
        "ol_df.shape"
      ],
      "metadata": {
        "colab": {
          "base_uri": "https://localhost:8080/"
        },
        "id": "K1aKWi9w5cDZ",
        "outputId": "f54f0c82-f313-4ee2-eee8-ac332ee2ba35"
      },
      "execution_count": null,
      "outputs": [
        {
          "output_type": "execute_result",
          "data": {
            "text/plain": [
              "(53231, 8)"
            ]
          },
          "metadata": {},
          "execution_count": 6
        }
      ]
    },
    {
      "cell_type": "code",
      "source": [
        "p_df.shape"
      ],
      "metadata": {
        "colab": {
          "base_uri": "https://localhost:8080/"
        },
        "id": "oXyAHynY5jB9",
        "outputId": "55a6aaee-3106-467d-8ca5-a9d8783a1ef0"
      },
      "execution_count": null,
      "outputs": [
        {
          "output_type": "execute_result",
          "data": {
            "text/plain": [
              "(9992, 6)"
            ]
          },
          "metadata": {},
          "execution_count": 7
        }
      ]
    },
    {
      "cell_type": "markdown",
      "source": [
        "Coverting dates to datetime"
      ],
      "metadata": {
        "id": "S0Q5n8IGoPEz"
      }
    },
    {
      "cell_type": "code",
      "source": [
        "o_df[\"created_date\"]=pd.to_datetime(o_df[\"created_date\"])\n",
        "ol_df[\"date\"]=pd.to_datetime(ol_df[\"date\"])"
      ],
      "metadata": {
        "id": "fwUkGD3poOnV"
      },
      "execution_count": null,
      "outputs": []
    },
    {
      "cell_type": "markdown",
      "source": [
        "# Processing DataFrames"
      ],
      "metadata": {
        "id": "NF_kO4WTpM66"
      }
    },
    {
      "cell_type": "markdown",
      "source": [
        "### Filtering for \"Completed\" orders"
      ],
      "metadata": {
        "id": "EcIy3wnpo2yH"
      }
    },
    {
      "cell_type": "code",
      "source": [
        "#original number of rows before filtering: 226904\n",
        "#updated number of rows after filtering: 46605\n",
        "o_df=o_df.query(\"state=='Completed'\")"
      ],
      "metadata": {
        "id": "shnPNs7co9Fb"
      },
      "execution_count": null,
      "outputs": []
    },
    {
      "cell_type": "markdown",
      "source": [
        "### Keeping only orders that are both in DataFrames **orders** and **orderlines**"
      ],
      "metadata": {
        "id": "jHSUqYsupYDN"
      }
    },
    {
      "cell_type": "code",
      "source": [
        "#original order_id nuniques in orders:46605\n",
        "#original id_order nuniques in orderlines:170213\n",
        "#merging DataFrames to identify order_id (unique) common in both\n",
        "order_ids = o_df.merge(ol_df,\n",
        "                left_on='order_id',\n",
        "                right_on='id_order',\n",
        "                how='inner')"
      ],
      "metadata": {
        "id": "dSWiK0EZpsMk"
      },
      "execution_count": null,
      "outputs": []
    },
    {
      "cell_type": "code",
      "source": [
        "order_ids.shape"
      ],
      "metadata": {
        "colab": {
          "base_uri": "https://localhost:8080/"
        },
        "id": "10mg3BY64mA7",
        "outputId": "df22e5db-54fc-417b-ff9d-3c0dd32e7347"
      },
      "execution_count": null,
      "outputs": [
        {
          "output_type": "execute_result",
          "data": {
            "text/plain": [
              "(53231, 12)"
            ]
          },
          "metadata": {},
          "execution_count": 11
        }
      ]
    },
    {
      "cell_type": "code",
      "source": [
        "order_ids = order_ids['order_id'].unique()"
      ],
      "metadata": {
        "id": "Z1qFJpNkpC4e"
      },
      "execution_count": null,
      "outputs": []
    },
    {
      "cell_type": "code",
      "source": [
        "# keeping only the common order_ids in orders\n",
        "o_df = o_df.loc[o_df[\"order_id\"].isin(order_ids), :]\n",
        "\n",
        "# keeping only the common order_ids in orderlines\n",
        "ol_df = ol_df.loc[ol_df[\"id_order\"].isin(order_ids), :]"
      ],
      "metadata": {
        "id": "FxHo9H3ApbVi"
      },
      "execution_count": null,
      "outputs": []
    },
    {
      "cell_type": "code",
      "source": [],
      "metadata": {
        "id": "aAelGbCce6bM"
      },
      "execution_count": null,
      "outputs": []
    },
    {
      "cell_type": "code",
      "source": [
        "#orders and orderlines now have same amount of unique order_ids\n",
        "o_df[\"order_id\"].nunique(), ol_df[\"id_order\"].nunique()"
      ],
      "metadata": {
        "colab": {
          "base_uri": "https://localhost:8080/"
        },
        "id": "mzuCdpYOtcjg",
        "outputId": "d26354f5-9558-4991-d566-ae4b3aa7b0b6"
      },
      "execution_count": null,
      "outputs": [
        {
          "output_type": "execute_result",
          "data": {
            "text/plain": [
              "(40985, 40985)"
            ]
          },
          "metadata": {},
          "execution_count": 14
        }
      ]
    },
    {
      "cell_type": "markdown",
      "source": [
        "### Excluding orders with unknown products"
      ],
      "metadata": {
        "id": "fx9GtrR-qFME"
      }
    },
    {
      "cell_type": "markdown",
      "source": [
        "Here we are looking for **\"sku\"** missing from the **products** DataFrame and deleting the assosiated **\"order_id\"** from **orderlines** and **orders**."
      ],
      "metadata": {
        "id": "2dpyvRXMCSeC"
      }
    },
    {
      "cell_type": "code",
      "source": [
        "#list of sku in the products\n",
        "products_sku = p_df['sku'] #9992\n",
        "\n",
        "#sku that are NOT in orderlines\n",
        "orderlines_missing_products = ol_df[~ol_df['sku'].isin(products_sku)] #1394\n",
        "\n",
        "#id_order for the sku in orderlines that are NOT in products\n",
        "order_id_no_product = orderlines_missing_products['id_order'].unique() #1363\n",
        "\n",
        "#removing from orderlines all id_order without a sku in products\n",
        "ol_df = ol_df[~ol_df['id_order'].isin(order_id_no_product)] #54324 rows\n",
        "\n",
        "#removing from orders all order_id without a sku in products\n",
        "o_df = o_df[~o_df['order_id'].isin(order_id_no_product)] #41701 rows"
      ],
      "metadata": {
        "id": "FIDh4wUCqKgf"
      },
      "execution_count": null,
      "outputs": []
    },
    {
      "cell_type": "code",
      "source": [
        "#orders and orderlines now have same number of unique id_order/order_id\n",
        "ol_df[\"id_order\"].nunique(),o_df[\"order_id\"].nunique()"
      ],
      "metadata": {
        "colab": {
          "base_uri": "https://localhost:8080/"
        },
        "id": "Xs8LtJgKxWpi",
        "outputId": "f27f6ede-0152-4bb1-a476-eaf3ddecb745"
      },
      "execution_count": null,
      "outputs": [
        {
          "output_type": "execute_result",
          "data": {
            "text/plain": [
              "(40985, 40985)"
            ]
          },
          "metadata": {},
          "execution_count": 16
        }
      ]
    },
    {
      "cell_type": "markdown",
      "source": [
        "### Creating a new calculated column for comparison"
      ],
      "metadata": {
        "id": "3y0YWSrArvup"
      }
    },
    {
      "cell_type": "markdown",
      "source": [
        "Creating a new column (**\"unit_price_total\"**) in orderlines with calculated data (**\"unit_price\"** * **\"product_quantity\"**) to be able to compare with **\"total_paid\"** in **orders** later."
      ],
      "metadata": {
        "id": "4FUUmDrOsIF2"
      }
    },
    {
      "cell_type": "code",
      "source": [
        "#creating a new column with values of the other two tables multiplied\n",
        "ol_df.loc[:,'unit_price_total'] = ol_df['unit_price'] * ol_df['product_quantity']"
      ],
      "metadata": {
        "id": "J29sBxkKssgj"
      },
      "execution_count": null,
      "outputs": []
    },
    {
      "cell_type": "code",
      "source": [
        "ol_df.columns"
      ],
      "metadata": {
        "colab": {
          "base_uri": "https://localhost:8080/"
        },
        "id": "Cg5B-yNUnSGW",
        "outputId": "edbe88a2-fa38-4329-e2f4-8b9454069e2e"
      },
      "execution_count": null,
      "outputs": [
        {
          "output_type": "execute_result",
          "data": {
            "text/plain": [
              "Index(['id', 'id_order', 'product_id', 'product_quantity', 'sku', 'unit_price',\n",
              "       'date', 'unit_price_total'],\n",
              "      dtype='object')"
            ]
          },
          "metadata": {},
          "execution_count": 18
        }
      ]
    },
    {
      "cell_type": "markdown",
      "source": [
        "# Merged tables (for comparisons)"
      ],
      "metadata": {
        "id": "CN2n7-A4s42q"
      }
    },
    {
      "cell_type": "markdown",
      "source": [
        "### DataFrame comparing total_paid with unit_price_total"
      ],
      "metadata": {
        "id": "U_dVGzKP3Su1"
      }
    },
    {
      "cell_type": "markdown",
      "source": [
        "1. Creating a new DataFrame, where **orderlines** is grouped by **\"id_order\"** and aggregated (summed) by column **\"unit_price_total\"**.\n",
        "2. Merge **orders** to this new DataFrame to compare the values of columns **\"total_paid\"** (in **orders**) and **\"unit_price_total\"** (in **orderlines**).\n",
        "3. This merged table should be **41701** rows long (due to the aggregated rows)."
      ],
      "metadata": {
        "id": "x3e5-fNgtJ9t"
      }
    },
    {
      "cell_type": "code",
      "source": [
        "#new grouped and aggregated DataFrame\n",
        "#41701 rows\n",
        "ol_agg = ol_df.groupby(\"id_order\", as_index=False)[\"unit_price_total\"].sum()"
      ],
      "metadata": {
        "id": "zzdMlPtftJZ0"
      },
      "execution_count": null,
      "outputs": []
    },
    {
      "cell_type": "code",
      "source": [
        "ol_agg_o = ol_agg.merge(o_df, left_on=\"id_order\", right_on=\"order_id\") #41701 rows"
      ],
      "metadata": {
        "id": "9ymzf6FOSmfm"
      },
      "execution_count": null,
      "outputs": []
    },
    {
      "cell_type": "code",
      "source": [
        "ol_agg_o = o_df.merge(ol_agg, left_on=\"order_id\", right_on=\"id_order\")"
      ],
      "metadata": {
        "id": "T8i1_xEERAKF"
      },
      "execution_count": null,
      "outputs": []
    },
    {
      "cell_type": "code",
      "source": [
        "ol_agg_o_dif = ol_agg_o.copy()"
      ],
      "metadata": {
        "id": "rBgsFun_1gSl"
      },
      "execution_count": null,
      "outputs": []
    },
    {
      "cell_type": "code",
      "source": [
        "#difference between total_paid and unit_price_total\n",
        "ol_agg_o_dif[\"order_price_dif\"] = ol_agg_o[\"total_paid\"] - ol_agg_o[\"unit_price_total\"]"
      ],
      "metadata": {
        "id": "zrzpQJZ3OozK"
      },
      "execution_count": null,
      "outputs": []
    },
    {
      "cell_type": "code",
      "source": [
        "#average difference between total_paid and unit_price_total\n",
        "ol_agg_o_dif.order_price_dif.mean().round(2)"
      ],
      "metadata": {
        "colab": {
          "base_uri": "https://localhost:8080/"
        },
        "id": "tKT5Muy79Lil",
        "outputId": "9d99e5bb-6060-4664-84e6-f0f7992e9092"
      },
      "execution_count": null,
      "outputs": [
        {
          "output_type": "execute_result",
          "data": {
            "text/plain": [
              "3.94"
            ]
          },
          "metadata": {},
          "execution_count": 24
        }
      ]
    },
    {
      "cell_type": "markdown",
      "source": [
        "### DataFrame comparing price with unit_price"
      ],
      "metadata": {
        "id": "BK-oJmKV3dUn"
      }
    },
    {
      "cell_type": "markdown",
      "source": [
        "1. Create another new DataFrame, where the **products** DataFrame is now merged with the **orderlines** table.\n",
        "2. Compare the values of columns **\"price\"** (in products) and **\"unit_price\"** (in orderlines).\n",
        "3. This merged table should be **54324** as the rows are not aggregated."
      ],
      "metadata": {
        "id": "l8uZgvSBur-s"
      }
    },
    {
      "cell_type": "code",
      "source": [
        "#new DataFrame with products merged to orderlines\n",
        "#54324 rows\n",
        "ol_p = ol_df.merge(p_df,\n",
        "                on='sku',\n",
        "                how='left') #54324"
      ],
      "metadata": {
        "id": "u7vGtui9vlq6"
      },
      "execution_count": null,
      "outputs": []
    },
    {
      "cell_type": "code",
      "source": [
        "ol_p_dif = ol_p.copy()"
      ],
      "metadata": {
        "id": "OK43rPq72VV0"
      },
      "execution_count": null,
      "outputs": []
    },
    {
      "cell_type": "code",
      "source": [
        "#difference between price and unit_price\n",
        "#the difference should be explained by a promotion\n",
        "ol_p_dif[\"unit_price_dif\"] = ol_p[\"price\"] - ol_p[\"unit_price\"]"
      ],
      "metadata": {
        "id": "S8rPDziy2aUZ"
      },
      "execution_count": null,
      "outputs": []
    },
    {
      "cell_type": "code",
      "source": [
        "#average difference between price and unit_price\n",
        "ol_p_dif.unit_price_dif.mean().round(2)"
      ],
      "metadata": {
        "colab": {
          "base_uri": "https://localhost:8080/"
        },
        "id": "gH5ruNVB88_H",
        "outputId": "03efe421-8932-4230-b66a-47b315d97a1a"
      },
      "execution_count": null,
      "outputs": [
        {
          "output_type": "execute_result",
          "data": {
            "text/plain": [
              "26.12"
            ]
          },
          "metadata": {},
          "execution_count": 28
        }
      ]
    },
    {
      "cell_type": "markdown",
      "source": [
        "# Distribution of data"
      ],
      "metadata": {
        "id": "BdFYqnAJzO2U"
      }
    },
    {
      "cell_type": "markdown",
      "source": [
        "We will now look at the data to see if there are any outliers.  For this we could use histograms or other plotting visualization approaches."
      ],
      "metadata": {
        "id": "w7ab2Q7ozdcq"
      }
    },
    {
      "cell_type": "code",
      "source": [
        "#looking at difference between total_paid and unit_price_total\n",
        "ol_agg_o_dif[\"order_price_dif\"].hist(bins= 50, figsize=(8,6));"
      ],
      "metadata": {
        "colab": {
          "base_uri": "https://localhost:8080/"
        },
        "collapsed": true,
        "id": "0YjdfARm3pa7",
        "outputId": "c22cc468-23dc-4ba5-91b3-f6113947b3b2"
      },
      "execution_count": null,
      "outputs": [
        {
          "output_type": "display_data",
          "data": {
            "text/plain": [
              "<Figure size 800x600 with 1 Axes>"
            ],
            "image/png": "[encoded data removed]"
          },
          "metadata": {}
        }
      ]
    },
    {
      "cell_type": "code",
      "source": [
        "ol_agg_o_dif[\"order_price_dif\"].describe()"
      ],
      "metadata": {
        "colab": {
          "base_uri": "https://localhost:8080/"
        },
        "collapsed": true,
        "id": "MvGb35bN4OxW",
        "outputId": "22ff8888-91bb-48d8-ffc7-413015d2ab47"
      },
      "execution_count": null,
      "outputs": [
        {
          "output_type": "execute_result",
          "data": {
            "text/plain": [
              "count   40985.00\n",
              "mean        3.94\n",
              "std         2.83\n",
              "min        -5.00\n",
              "25%         0.00\n",
              "50%         4.99\n",
              "75%         6.99\n",
              "max        16.97\n",
              "Name: order_price_dif, dtype: float64"
            ],
            "text/html": [
              "<div>\n",
              "<style scoped>\n",
              "    .dataframe tbody tr th:only-of-type {\n",
              "        vertical-align: middle;\n",
              "    }\n",
              "\n",
              "    .dataframe tbody tr th {\n",
              "        vertical-align: top;\n",
              "    }\n",
              "\n",
              "    .dataframe thead th {\n",
              "        text-align: right;\n",
              "    }\n",
              "</style>\n",
              "<table border=\"1\" class=\"dataframe\">\n",
              "  <thead>\n",
              "    <tr style=\"text-align: right;\">\n",
              "      <th></th>\n",
              "      <th>order_price_dif</th>\n",
              "    </tr>\n",
              "  </thead>\n",
              "  <tbody>\n",
              "    <tr>\n",
              "      <th>count</th>\n",
              "      <td>40985.00</td>\n",
              "    </tr>\n",
              "    <tr>\n",
              "      <th>mean</th>\n",
              "      <td>3.94</td>\n",
              "    </tr>\n",
              "    <tr>\n",
              "      <th>std</th>\n",
              "      <td>2.83</td>\n",
              "    </tr>\n",
              "    <tr>\n",
              "      <th>min</th>\n",
              "      <td>-5.00</td>\n",
              "    </tr>\n",
              "    <tr>\n",
              "      <th>25%</th>\n",
              "      <td>0.00</td>\n",
              "    </tr>\n",
              "    <tr>\n",
              "      <th>50%</th>\n",
              "      <td>4.99</td>\n",
              "    </tr>\n",
              "    <tr>\n",
              "      <th>75%</th>\n",
              "      <td>6.99</td>\n",
              "    </tr>\n",
              "    <tr>\n",
              "      <th>max</th>\n",
              "      <td>16.97</td>\n",
              "    </tr>\n",
              "  </tbody>\n",
              "</table>\n",
              "</div><br><label><b>dtype:</b> float64</label>"
            ]
          },
          "metadata": {},
          "execution_count": 30
        }
      ]
    },
    {
      "cell_type": "code",
      "source": [
        "#looking at difference between price and unit_price\n",
        "ol_p_dif[\"unit_price_dif\"].hist(bins= 50, figsize=(8,6));"
      ],
      "metadata": {
        "colab": {
          "base_uri": "https://localhost:8080/",
          "height": 522
        },
        "collapsed": true,
        "id": "aKW64jBs3tci",
        "outputId": "f6dee617-6b99-4c2e-d2ed-7b28ca306ef0"
      },
      "execution_count": null,
      "outputs": [
        {
          "output_type": "display_data",
          "data": {
            "text/plain": [
              "<Figure size 800x600 with 1 Axes>"
            ],
            "image/png": "[encoded data removed]"
          },
          "metadata": {}
        }
      ]
    },
    {
      "cell_type": "code",
      "source": [
        "#these differences seem to make sense as discounts/promo prices\n",
        "ol_p_dif[\"unit_price_dif\"].describe()"
      ],
      "metadata": {
        "colab": {
          "base_uri": "https://localhost:8080/"
        },
        "collapsed": true,
        "id": "iPZc4ii44Uwz",
        "outputId": "d5b9dac8-8888-45a0-fd09-bd6833ead492"
      },
      "execution_count": null,
      "outputs": [
        {
          "output_type": "execute_result",
          "data": {
            "text/plain": [
              "count   53231.00\n",
              "mean       26.12\n",
              "std        45.55\n",
              "min      -170.99\n",
              "25%         5.25\n",
              "50%        15.00\n",
              "75%        31.00\n",
              "max      1320.00\n",
              "Name: unit_price_dif, dtype: float64"
            ],
            "text/html": [
              "<div>\n",
              "<style scoped>\n",
              "    .dataframe tbody tr th:only-of-type {\n",
              "        vertical-align: middle;\n",
              "    }\n",
              "\n",
              "    .dataframe tbody tr th {\n",
              "        vertical-align: top;\n",
              "    }\n",
              "\n",
              "    .dataframe thead th {\n",
              "        text-align: right;\n",
              "    }\n",
              "</style>\n",
              "<table border=\"1\" class=\"dataframe\">\n",
              "  <thead>\n",
              "    <tr style=\"text-align: right;\">\n",
              "      <th></th>\n",
              "      <th>unit_price_dif</th>\n",
              "    </tr>\n",
              "  </thead>\n",
              "  <tbody>\n",
              "    <tr>\n",
              "      <th>count</th>\n",
              "      <td>53231.00</td>\n",
              "    </tr>\n",
              "    <tr>\n",
              "      <th>mean</th>\n",
              "      <td>26.12</td>\n",
              "    </tr>\n",
              "    <tr>\n",
              "      <th>std</th>\n",
              "      <td>45.55</td>\n",
              "    </tr>\n",
              "    <tr>\n",
              "      <th>min</th>\n",
              "      <td>-170.99</td>\n",
              "    </tr>\n",
              "    <tr>\n",
              "      <th>25%</th>\n",
              "      <td>5.25</td>\n",
              "    </tr>\n",
              "    <tr>\n",
              "      <th>50%</th>\n",
              "      <td>15.00</td>\n",
              "    </tr>\n",
              "    <tr>\n",
              "      <th>75%</th>\n",
              "      <td>31.00</td>\n",
              "    </tr>\n",
              "    <tr>\n",
              "      <th>max</th>\n",
              "      <td>1320.00</td>\n",
              "    </tr>\n",
              "  </tbody>\n",
              "</table>\n",
              "</div><br><label><b>dtype:</b> float64</label>"
            ]
          },
          "metadata": {},
          "execution_count": 32
        }
      ]
    },
    {
      "cell_type": "markdown",
      "source": [
        "# Addressing outliers"
      ],
      "metadata": {
        "id": "ryZUWkwQzifO"
      }
    },
    {
      "cell_type": "markdown",
      "source": [
        "### Deleting outliers (below 25% and above 75%)"
      ],
      "metadata": {
        "id": "m-36R0kiGUVd"
      }
    },
    {
      "cell_type": "code",
      "source": [
        "# Removing outliers from ol_agg_o_diff (orderlines aggregated and merged with orders, dif between total_price and unit_price_total)\n",
        "\n",
        "# Calculating Q1 (25th percentile) and Q3 (75th percentile)\n",
        "Q1 = ol_agg_o_dif[\"order_price_dif\"].quantile(0.25)\n",
        "Q3 = ol_agg_o_dif[\"order_price_dif\"].quantile(0.75)\n",
        "IQR = Q3 - Q1\n",
        "\n",
        "# Defining the outlier range\n",
        "lower_bound = Q1 - 1.5 * IQR\n",
        "upper_bound = Q3 + 1.5 * IQR\n",
        "\n",
        "# Filtering the DataFrame to remove outliers\n",
        "ol_agg_o_dif_no_outliers = ol_agg_o_dif[(ol_agg_o_dif[\"order_price_dif\"] >= lower_bound) & (ol_agg_o_dif[\"order_price_dif\"] <= upper_bound)]"
      ],
      "metadata": {
        "id": "5WOxf6WN8nEU"
      },
      "execution_count": null,
      "outputs": []
    },
    {
      "cell_type": "code",
      "source": [
        "#checking again for outliers\n",
        "ol_agg_o_dif_no_outliers[\"order_price_dif\"].describe()"
      ],
      "metadata": {
        "colab": {
          "base_uri": "https://localhost:8080/",
          "height": 334
        },
        "collapsed": true,
        "id": "4e-646W5Aez0",
        "outputId": "3e1d3d38-3f50-492f-900b-f3e32968876a"
      },
      "execution_count": null,
      "outputs": [
        {
          "output_type": "execute_result",
          "data": {
            "text/plain": [
              "count   40985.00\n",
              "mean        3.94\n",
              "std         2.83\n",
              "min        -5.00\n",
              "25%         0.00\n",
              "50%         4.99\n",
              "75%         6.99\n",
              "max        16.97\n",
              "Name: order_price_dif, dtype: float64"
            ],
            "text/html": [
              "<div>\n",
              "<style scoped>\n",
              "    .dataframe tbody tr th:only-of-type {\n",
              "        vertical-align: middle;\n",
              "    }\n",
              "\n",
              "    .dataframe tbody tr th {\n",
              "        vertical-align: top;\n",
              "    }\n",
              "\n",
              "    .dataframe thead th {\n",
              "        text-align: right;\n",
              "    }\n",
              "</style>\n",
              "<table border=\"1\" class=\"dataframe\">\n",
              "  <thead>\n",
              "    <tr style=\"text-align: right;\">\n",
              "      <th></th>\n",
              "      <th>order_price_dif</th>\n",
              "    </tr>\n",
              "  </thead>\n",
              "  <tbody>\n",
              "    <tr>\n",
              "      <th>count</th>\n",
              "      <td>40985.00</td>\n",
              "    </tr>\n",
              "    <tr>\n",
              "      <th>mean</th>\n",
              "      <td>3.94</td>\n",
              "    </tr>\n",
              "    <tr>\n",
              "      <th>std</th>\n",
              "      <td>2.83</td>\n",
              "    </tr>\n",
              "    <tr>\n",
              "      <th>min</th>\n",
              "      <td>-5.00</td>\n",
              "    </tr>\n",
              "    <tr>\n",
              "      <th>25%</th>\n",
              "      <td>0.00</td>\n",
              "    </tr>\n",
              "    <tr>\n",
              "      <th>50%</th>\n",
              "      <td>4.99</td>\n",
              "    </tr>\n",
              "    <tr>\n",
              "      <th>75%</th>\n",
              "      <td>6.99</td>\n",
              "    </tr>\n",
              "    <tr>\n",
              "      <th>max</th>\n",
              "      <td>16.97</td>\n",
              "    </tr>\n",
              "  </tbody>\n",
              "</table>\n",
              "</div><br><label><b>dtype:</b> float64</label>"
            ]
          },
          "metadata": {},
          "execution_count": 34
        }
      ]
    },
    {
      "cell_type": "code",
      "source": [
        "#checking again for outliers (boxplot)\n",
        "ol_agg_o_dif_no_outliers.boxplot(\"order_price_dif\")"
      ],
      "metadata": {
        "colab": {
          "base_uri": "https://localhost:8080/",
          "height": 447
        },
        "collapsed": true,
        "id": "5L_NFy--B3OV",
        "outputId": "9d8c1bff-7fe1-4c66-b074-f5067fda3877"
      },
      "execution_count": null,
      "outputs": [
        {
          "output_type": "execute_result",
          "data": {
            "text/plain": [
              "<Axes: >"
            ]
          },
          "metadata": {},
          "execution_count": 35
        },
        {
          "output_type": "display_data",
          "data": {
            "text/plain": [
              "<Figure size 640x480 with 1 Axes>"
            ],
            "image/png": "[encoded data removed]"
          },
          "metadata": {}
        }
      ]
    },
    {
      "cell_type": "code",
      "source": [
        "#after removing outliers, the DataFrame is down to 40985 rows\n",
        "ol_agg_o_dif_no_outliers.shape"
      ],
      "metadata": {
        "colab": {
          "base_uri": "https://localhost:8080/"
        },
        "id": "L93k7uDVF0-v",
        "outputId": "7fd0ba36-ccc8-4282-cd8a-3b190c02897b"
      },
      "execution_count": null,
      "outputs": [
        {
          "output_type": "execute_result",
          "data": {
            "text/plain": [
              "(40985, 7)"
            ]
          },
          "metadata": {},
          "execution_count": 36
        }
      ]
    },
    {
      "cell_type": "markdown",
      "source": [
        "### Removing order_id outliers everywhere"
      ],
      "metadata": {
        "id": "6fotLTKhGdxi"
      }
    },
    {
      "cell_type": "markdown",
      "source": [
        "Removing the outliers' unique order_id/id_order from **orders** as well as from **orderlines_products** *merged* DataFrame."
      ],
      "metadata": {
        "id": "2nE5lz4AG6_7"
      }
    },
    {
      "cell_type": "code",
      "source": [
        "normal_diff_list = ol_agg_o_dif_no_outliers[\"id_order\"]"
      ],
      "metadata": {
        "id": "820ziK-lHGrG"
      },
      "execution_count": null,
      "outputs": []
    },
    {
      "cell_type": "code",
      "source": [
        "o_df = o_df.loc[o_df[\"order_id\"].isin(normal_diff_list),:]"
      ],
      "metadata": {
        "id": "HetNZjGGHyqe"
      },
      "execution_count": null,
      "outputs": []
    },
    {
      "cell_type": "code",
      "source": [
        "ol_df = ol_df.loc[ol_df[\"id_order\"].isin(normal_diff_list),:]"
      ],
      "metadata": {
        "id": "QP10Imd_ocpW"
      },
      "execution_count": null,
      "outputs": []
    },
    {
      "cell_type": "code",
      "source": [
        "o_df[\"order_id\"].nunique(), ol_df[\"id_order\"].nunique()"
      ],
      "metadata": {
        "colab": {
          "base_uri": "https://localhost:8080/"
        },
        "id": "yzv68qB3HL-r",
        "outputId": "74f0ab50-90f1-44ed-b49a-d26bff2f3ce9"
      },
      "execution_count": null,
      "outputs": [
        {
          "output_type": "execute_result",
          "data": {
            "text/plain": [
              "(40985, 40985)"
            ]
          },
          "metadata": {},
          "execution_count": 40
        }
      ]
    },
    {
      "cell_type": "markdown",
      "source": [
        "# Final reliable DataFrames"
      ],
      "metadata": {
        "id": "7xozo4S_2fAT"
      }
    },
    {
      "cell_type": "code",
      "source": [
        "#saving the cleaned orders DataFrame as .csv\n",
        "o_df.to_csv('/content/drive/MyDrive/Colab Notebooks/Eniac/Eniac_exploration_cleaning/orders_clean_df.csv', index=False)\n",
        "#saving the cleaned orderlines DataFrame as .csv\n",
        "ol_df.to_csv('/content/drive/MyDrive/Colab Notebooks/Eniac/Eniac_exploration_cleaning/orderlines_clean_df.csv', index=False)\n",
        "#saving the cleaned products DataFrame as .cvs\n",
        "p_df.to_csv('/content/drive/MyDrive/Colab Notebooks/Eniac/Eniac_exploration_cleaning/products_clean_df.csv', index=False)\n",
        "#saving the cleaned brands DataFrame as .cvs\n",
        "b_df.to_csv('/content/drive/MyDrive/Colab Notebooks/Eniac/Eniac_exploration_cleaning/brands_clean_df.csv', index=False)"
      ],
      "metadata": {
        "id": "lZ3BF9OxI096"
      },
      "execution_count": null,
      "outputs": []
    },
    {
      "cell_type": "code",
      "source": [
        "#verifying copying was successful for the first DataFrame (orders)\n",
        "df_verify = pd.read_csv('/content/drive/MyDrive/Colab Notebooks/Eniac/Eniac_exploration_cleaning/orders_clean_df.csv')\n",
        "print(df_verify)"
      ],
      "metadata": {
        "id": "8KvHIlRdMx3a",
        "collapsed": true,
        "colab": {
          "base_uri": "https://localhost:8080/"
        },
        "outputId": "bd67b4ec-eb14-4528-f98d-4446fce50c7d"
      },
      "execution_count": null,
      "outputs": [
        {
          "output_type": "stream",
          "name": "stdout",
          "text": [
            "       order_id         created_date  total_paid      state\n",
            "0        241423  2017-11-06 13:10:02      136.15  Completed\n",
            "1        242832  2017-12-31 17:40:03       15.76  Completed\n",
            "2        243330  2017-02-16 10:59:38       84.98  Completed\n",
            "3        245275  2017-06-28 11:35:37      149.00  Completed\n",
            "4        245595  2017-01-21 12:52:47      112.97  Completed\n",
            "...         ...                  ...         ...        ...\n",
            "40980    527042  2018-03-14 11:47:50       18.98  Completed\n",
            "40981    527070  2018-03-14 11:50:48       24.97  Completed\n",
            "40982    527074  2018-03-14 11:51:42       24.97  Completed\n",
            "40983    527096  2018-03-14 11:58:40       34.96  Completed\n",
            "40984    527112  2018-03-14 12:03:52       14.98  Completed\n",
            "\n",
            "[40985 rows x 4 columns]\n"
          ]
        }
      ]
    },
    {
      "cell_type": "code",
      "source": [
        "#verifying copying was successful for the second DataFrame (orderlines)\n",
        "df_verify = pd.read_csv('/content/drive/MyDrive/Colab Notebooks/Eniac/Eniac_exploration_cleaning/orderlines_clean_df.csv')\n",
        "print(df_verify)"
      ],
      "metadata": {
        "id": "m4zkciFXNChG",
        "collapsed": true,
        "colab": {
          "base_uri": "https://localhost:8080/"
        },
        "outputId": "e10f98ef-a41a-4dda-a7a1-6442c340cb53"
      },
      "execution_count": null,
      "outputs": [
        {
          "output_type": "stream",
          "name": "stdout",
          "text": [
            "            id  id_order  product_id  product_quantity        sku  unit_price  \\\n",
            "0      1119116    299545           0                 1    OWC0100       47.49   \n",
            "1      1119119    299546           0                 1    IOT0014       18.99   \n",
            "2      1119120    295347           0                 1    APP0700       72.19   \n",
            "3      1119134    299556           0                 1  CRU0039-A       60.90   \n",
            "4      1119145    299561           0                 1    PEB0015      142.49   \n",
            "...        ...       ...         ...               ...        ...         ...   \n",
            "53226  1649447    527035           0                 1    APP0698        9.99   \n",
            "53227  1649512    527070           0                 2    APP0698        9.99   \n",
            "53228  1649522    527074           0                 2    APP0698        9.99   \n",
            "53229  1649565    527096           0                 3    APP0698        9.99   \n",
            "53230  1649593    527112           0                 1    APP0698        9.99   \n",
            "\n",
            "                      date  unit_price_total  \n",
            "0      2017-01-01 01:46:16             47.49  \n",
            "1      2017-01-01 01:50:34             18.99  \n",
            "2      2017-01-01 01:54:11             72.19  \n",
            "3      2017-01-01 02:20:14             60.90  \n",
            "4      2017-01-01 02:38:50            142.49  \n",
            "...                    ...               ...  \n",
            "53226  2018-03-14 11:42:41              9.99  \n",
            "53227  2018-03-14 11:49:01             19.98  \n",
            "53228  2018-03-14 11:49:36             19.98  \n",
            "53229  2018-03-14 11:54:35             29.97  \n",
            "53230  2018-03-14 11:58:13              9.99  \n",
            "\n",
            "[53231 rows x 8 columns]\n"
          ]
        }
      ]
    },
    {
      "cell_type": "code",
      "source": [
        "#verifying copying was successful for the third DataFrame (products)\n",
        "df_verify = pd.read_csv('/content/drive/MyDrive/Colab Notebooks/Eniac/Eniac_exploration_cleaning/products_clean_df.csv')\n",
        "print(df_verify)"
      ],
      "metadata": {
        "collapsed": true,
        "id": "fp1jnWlXMn3X",
        "colab": {
          "base_uri": "https://localhost:8080/"
        },
        "outputId": "0530cce8-47ab-4a62-9b74-357164c2a467"
      },
      "execution_count": null,
      "outputs": [
        {
          "output_type": "stream",
          "name": "stdout",
          "text": [
            "          sku                                           name  \\\n",
            "0     RAI0007              Silver Rain Design mStand Support   \n",
            "1     APP0023              Apple Mac Keyboard Keypad Spanish   \n",
            "2     APP0025               Mighty Mouse Apple Mouse for Mac   \n",
            "3     APP0072  Apple Dock to USB Cable iPhone and iPod white   \n",
            "4     KIN0007    Mac Memory Kingston 2GB 667MHz DDR2 SO-DIMM   \n",
            "...       ...                                            ...   \n",
            "9987  BEL0376        Belkin Travel Support Apple Watch Black   \n",
            "9988  THU0060   Enroute Thule 14L Backpack MacBook 13 \"Black   \n",
            "9989  THU0061    Enroute Thule 14L Backpack MacBook 13 \"Blue   \n",
            "9990  THU0062     Enroute Thule 14L Backpack MacBook 13 \"Red   \n",
            "9991  THU0063   Enroute Thule 14L Backpack MacBook 13 \"Green   \n",
            "\n",
            "                                                   desc  price  in_stock  \\\n",
            "0          Aluminum support compatible with all MacBook  59.99         1   \n",
            "1             USB ultrathin keyboard Apple Mac Spanish.  59.00         0   \n",
            "2                                mouse Apple USB cable.  59.00         0   \n",
            "3                 IPhone dock and USB Cable Apple iPod.  25.00         0   \n",
            "4     2GB RAM Mac mini and iMac (2006/07) MacBook Pr...  34.99         1   \n",
            "...                                                 ...    ...       ...   \n",
            "9987  compact and portable stand vertically or horiz...  29.99         1   \n",
            "9988  Backpack with capacity of 14 liter compartment...  69.95         1   \n",
            "9989  Backpack with capacity of 14 liter compartment...  69.95         1   \n",
            "9990  Backpack with capacity of 14 liter compartment...  69.95         0   \n",
            "9991  Backpack with capacity of 14 liter compartment...  69.95         1   \n",
            "\n",
            "          type  \n",
            "0         8696  \n",
            "1     13855401  \n",
            "2         1387  \n",
            "3         1230  \n",
            "4         1364  \n",
            "...        ...  \n",
            "9987     12282  \n",
            "9988      1392  \n",
            "9989      1392  \n",
            "9990      1392  \n",
            "9991      1392  \n",
            "\n",
            "[9992 rows x 6 columns]\n"
          ]
        }
      ]
    },
    {
      "cell_type": "code",
      "source": [
        "#verifying copying was successful for the forth DataFrame (brands)\n",
        "df_verify = pd.read_csv('/content/drive/MyDrive/Colab Notebooks/Eniac/Eniac_exploration_cleaning/brands_clean_df.csv')\n",
        "print(df_verify)"
      ],
      "metadata": {
        "collapsed": true,
        "id": "lELtrCdfhZLi",
        "colab": {
          "base_uri": "https://localhost:8080/"
        },
        "outputId": "927f32e0-6556-40e3-fc58-7804c7438bfd"
      },
      "execution_count": null,
      "outputs": [
        {
          "output_type": "stream",
          "name": "stdout",
          "text": [
            "    short              long\n",
            "0     8MO         8Mobility\n",
            "1     ACM              Acme\n",
            "2     ADN            Adonit\n",
            "3     AII             Aiino\n",
            "4     AKI            Akitio\n",
            "5     ALL         Allocacoc\n",
            "6     AP2             Apple\n",
            "7     APP             Apple\n",
            "8     BAN        Band&Strap\n",
            "9     BEA             Beats\n",
            "10    BEL            Belkin\n",
            "11    BEZ             Be.ez\n",
            "12    BLL        BlueLounge\n",
            "13    BLM  Blue Microphones\n",
            "14    BNQ              BenQ\n",
            "15    BOD        BodyGuardz\n",
            "16    BOO              Booq\n",
            "17    BOS              Bose\n",
            "18    BTC         Boostcase\n",
            "19    CAD              Bose\n",
            "20    CAI          Casetify\n",
            "21    CEL             Celly\n",
            "22    COG            Cogito\n",
            "23    CRU           Crucial\n",
            "24    CYB        Cyberpower\n",
            "25    CYG           Cygnett\n",
            "26    DEV            Devolo\n",
            "27    DJI               DJI\n",
            "28    DLK            D-Link\n",
            "29    DLL              Dell\n",
            "30    DOD          Dodocool\n",
            "31    DRO             Drobo\n",
            "32    DVI             Devia\n",
            "33    EIZ              Eizo\n",
            "34    ELA             Elago\n",
            "35    ELE     Elevation Lab\n",
            "36    ELG            Elgato\n",
            "37    ENV           Unknown\n",
            "38    EVU            Evutec\n",
            "39    FCM               FCM\n",
            "40    FIB            Fibaro\n",
            "41    FIF        FiftyThree\n",
            "42    FIT            Fitbit\n",
            "43    GAM          Gamevice\n",
            "44    GLY        Glyph Atom\n",
            "45    GOP             GoPro\n",
            "46    GRT           Griffin\n",
            "47    GTE      G-Technology\n",
            "48    HAR     Harman Kardon\n",
            "49    HGD       Henge Docks\n",
            "50    HGS   HGST Travelstar\n",
            "51    HIC           Hitcase\n",
            "52    HOC         Hoco Nike\n",
            "53    HOW         Honeywell\n",
            "54    HTE       Hyper Pearl\n",
            "55    IAM              I AM\n",
            "56    ICA            Incase\n",
            "57    IFR            iFrogz\n",
            "58    IFX            iFixit\n",
            "59    IHE           iHealth\n",
            "60    IKM     IK Multimedia\n",
            "61    IOT            iOttie\n",
            "62    JAB             Jabra\n",
            "63    JAW           Jawbone\n",
            "64    JBL               JBL\n",
            "65    JMO       Just Mobile\n",
            "66    JOB              Joby\n",
            "67    JYB           Jaybird\n",
            "68    KAI       Kaiser Baas\n",
            "69    KAN             Kanex\n",
            "70    KEN           Jaybird\n",
            "71    KEU     Kenu Airframe\n",
            "72    KIN          Kingston\n",
            "73    KOO           Koogeek\n",
            "74    KUA          Kukaclip\n",
            "75    LAC             LaCie\n",
            "76    LAN       LandingZone\n",
            "77    LEE              Leef\n",
            "78    LEX             Lexar\n",
            "79    LGE                LG\n",
            "80    LIB           Unknown\n",
            "81    LIF         Lifeproof\n",
            "82    LMP               LMP\n",
            "83    LOG          Logitech\n",
            "84    LUN           Lunatik\n",
            "85    MAC           Macally\n",
            "86    MAK          Maclocks\n",
            "87    MAT            Matias\n",
            "88    MBI      Mobility Lab\n",
            "89    MDT       Mediterrans\n",
            "90    MIC         Microsoft\n",
            "91    MIN          Minibatt\n",
            "92    MMW             My MW\n",
            "93    MOL         Moleskine\n",
            "94    MOP            Mophie\n",
            "95    MOS             Moshi\n",
            "96    MOX             Moxie\n",
            "97    MTF           Mistify\n",
            "98    MUJ            Mophie\n",
            "99    MUV             Muvit\n",
            "100   MYF             MyFox\n",
            "101   NDA             Nonda\n",
            "102   NDE             Ndevr\n",
            "103   NEA           Netatmo\n",
            "104   NES              Nest\n",
            "105   NIE           Ninebot\n",
            "106   NIM            Nimbus\n",
            "107   NKI             Nokia\n",
            "108   NOD             Nodon\n",
            "109   NOK              Noke\n",
            "110   NOM             Nomad\n",
            "111   NTE         NewerTech\n",
            "112   OBL            Oblumi\n",
            "113   OLI            Olixar\n",
            "114   OLL          Olloclip\n",
            "115   OPU            Opulus\n",
            "116   OSM              Osmo\n",
            "117   OTR          Startech\n",
            "118   OTT          Otterbox\n",
            "119   OWC               OWC\n",
            "120   PAC              Pack\n",
            "121   PAR            Parrot\n",
            "122   PEB            Pebble\n",
            "123   PHI           Philips\n",
            "124   PIE       Replacement\n",
            "125   PLA       Plantronics\n",
            "126   POL          Polaroid\n",
            "127   PQI               Pqi\n",
            "128   PRO           Promise\n",
            "129   PRY             Prynt\n",
            "130   PUR              Puro\n",
            "131   QAR            Qardio\n",
            "132   QDO              QDos\n",
            "133   QNA              QNAP\n",
            "134   RAI       Rain Design\n",
            "135   REP            Repair\n",
            "136   RET     Retrak Utopia\n",
            "137   RUT        Runstastic\n",
            "138   RYV             Ryval\n",
            "139   SAM           Samsung\n",
            "140   SAN           SanDisk\n",
            "141   SAT           Satechi\n",
            "142   SDE           SDesign\n",
            "143   SEA           Seagate\n",
            "144   SEV           Service\n",
            "145   SHE        SwitchEasy\n",
            "146   SNA              Sena\n",
            "147   SNN            Sonnet\n",
            "148   SNS             Sonos\n",
            "149   SOF          Software\n",
            "150   SPE      Spek SeeThru\n",
            "151   SPH            Sphero\n",
            "152   SSE            Sen.se\n",
            "153   STA          Startech\n",
            "154   STC           Stacked\n",
            "155   STI         Stil Mind\n",
            "156   STK            Stikgo\n",
            "157   STM               STM\n",
            "158   SXA      SecurityXtra\n",
            "159   SYN          Synology\n",
            "160   TAD              Tado\n",
            "161   TAM           Tangram\n",
            "162   TCH            Tech21\n",
            "163   THU             Thule\n",
            "164   TIG             Tigra\n",
            "165   TIL              Tile\n",
            "166   TOS           Toshiba\n",
            "167   TPL           TP-Link\n",
            "168   TRA          Trascend\n",
            "169   TRI             Tribe\n",
            "170   TRK            TrackR\n",
            "171   TRN      Trunk Sleeve\n",
            "172   TUC            Tucano\n",
            "173   TWS      Twelve South\n",
            "174   UAG  Urban Armor Gear\n",
            "175   WAC             Wacom\n",
            "176   WDT   Western Digital\n",
            "177   WHO            Whoosh\n",
            "178   WIK           Wikango\n",
            "179   WIT          Withings\n",
            "180   WOE            Wowewa\n",
            "181   XDO           X-Doria\n",
            "182   XOO            Xoopar\n",
            "183   XRI            X-Rite\n",
            "184   XTO             Xtorm\n",
            "185   ZAG          ZaggKeys\n",
            "186   ZEP              Zepp\n"
          ]
        }
      ]
    }
  ]
}

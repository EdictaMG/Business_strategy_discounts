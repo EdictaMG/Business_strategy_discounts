{
  "cells": [
    {
      "cell_type": "code",
      "execution_count": null,
      "metadata": {
        "id": "TW7ERyGpbojw"
      },
      "outputs": [],
      "source": [
        "import pandas as pd"
      ]
    },
    {
      "cell_type": "markdown",
      "metadata": {
        "id": "xRrlcOeHcAFs"
      },
      "source": [
        "# Starting data sets"
      ]
    },
    {
      "cell_type": "code",
      "execution_count": null,
      "metadata": {
        "id": "wyrBsymscCWM"
      },
      "outputs": [],
      "source": [
        "#The following are copies of the originally provided raw data from WBS\n",
        "# orders.csv\n",
        "orders = \"https://drive.google.com/file/d/1gyoqm_HkCXYxPEAotoHy3AnjQb062db0/view?usp=sharing\"\n",
        "path = \"https://drive.google.com/uc?export=download&id=\"+orders.split(\"/\")[-2]\n",
        "orders = pd.read_csv(path)\n",
        "\n",
        "# orderlines.csv\n",
        "orderlines = \"https://drive.google.com/file/d/1jXT7JdxARmUrVc4qqE1wUPTuaEw7tjxw/view?usp=sharing\"\n",
        "path = \"https://drive.google.com/uc?export=download&id=\"+orderlines.split(\"/\")[-2]\n",
        "orderlines = pd.read_csv(path)\n",
        "\n",
        "# products.csv\n",
        "products = \"https://drive.google.com/file/d/1HUKPnuS9RJjrTstonYmTHDYGZ0foZbz9/view?usp=sharing\"\n",
        "path = \"https://drive.google.com/uc?export=download&id=\"+products.split(\"/\")[-2]\n",
        "products = pd.read_csv(path)\n",
        "\n",
        "# brands.csv\n",
        "brands = 'https://drive.google.com/file/d/1C9fPQuinXOYkWe0NzcDgG3vLDg2seV1b/view?usp=sharing'\n",
        "path = 'https://drive.google.com/uc?export=download&id='+brands.split(\"/\")[-2]\n",
        "brands = pd.read_csv(path)"
      ]
    },
    {
      "cell_type": "markdown",
      "metadata": {
        "id": "YwEkys_qpaPP"
      },
      "source": [
        "**Starting data status**\n",
        "\n",
        "orders: (226909, 4)\n",
        "\n",
        "orderlines:(293983, 7)\n",
        "\n",
        "products:(19326, 7)\n",
        "\n",
        "brands:(187, 2)"
      ]
    },
    {
      "cell_type": "markdown",
      "metadata": {
        "id": "1W4rFoN2fUy7"
      },
      "source": [
        "# Manipulation of data sets"
      ]
    },
    {
      "cell_type": "markdown",
      "metadata": {
        "id": "SbleJKbvfYK4"
      },
      "source": [
        "### Removal of duplicates"
      ]
    },
    {
      "cell_type": "code",
      "execution_count": null,
      "metadata": {
        "id": "aRjXrKb8ftYQ"
      },
      "outputs": [],
      "source": [
        "#creating copies\n",
        "orders_df = orders.copy()\n",
        "\n",
        "orderlines_df = orderlines.copy()\n",
        "\n",
        "products_df=products.copy()\n",
        "\n",
        "brands_df=brands.copy()"
      ]
    },
    {
      "cell_type": "code",
      "execution_count": null,
      "metadata": {
        "colab": {
          "base_uri": "https://localhost:8080/"
        },
        "id": "guUSwDDwfpMa",
        "outputId": "fbd06ad3-69ef-4b6d-b969-58a253b0b29b"
      },
      "outputs": [
        {
          "data": {
            "text/plain": [
              "0"
            ]
          },
          "execution_count": 294,
          "metadata": {},
          "output_type": "execute_result"
        }
      ],
      "source": [
        "# orders_df - no duplicates\n",
        "orders_df.duplicated().sum()"
      ]
    },
    {
      "cell_type": "code",
      "execution_count": null,
      "metadata": {
        "colab": {
          "base_uri": "https://localhost:8080/"
        },
        "id": "o8FC7A5Hfq8s",
        "outputId": "1e567ea4-46dd-4010-ad66-e263e7f1e9fa"
      },
      "outputs": [
        {
          "data": {
            "text/plain": [
              "0"
            ]
          },
          "execution_count": 295,
          "metadata": {},
          "output_type": "execute_result"
        }
      ],
      "source": [
        "# orderlines_df - no duplicates\n",
        "orderlines_df.duplicated().sum()"
      ]
    },
    {
      "cell_type": "code",
      "execution_count": null,
      "metadata": {
        "colab": {
          "base_uri": "https://localhost:8080/"
        },
        "id": "VnUUMF-Zgc2X",
        "outputId": "52194157-83f8-4ba0-bb92-15de965025fd"
      },
      "outputs": [
        {
          "data": {
            "text/plain": [
              "8746"
            ]
          },
          "execution_count": 296,
          "metadata": {},
          "output_type": "execute_result"
        }
      ],
      "source": [
        "#a very large amount of products are duplicated (8746, or 45%)\n",
        "products_df.duplicated().sum()"
      ]
    },
    {
      "cell_type": "code",
      "execution_count": null,
      "metadata": {
        "id": "jCkVG65FgmhW"
      },
      "outputs": [],
      "source": [
        "#dropping duplicates\n",
        "products_df.drop_duplicates(inplace=True)"
      ]
    },
    {
      "cell_type": "code",
      "execution_count": null,
      "metadata": {
        "colab": {
          "base_uri": "https://localhost:8080/"
        },
        "id": "897Pfs3qgoc0",
        "outputId": "4fce6001-961f-4452-8e15-f4a7daf8ac7f"
      },
      "outputs": [
        {
          "name": "stdout",
          "output_type": "stream",
          "text": [
            "<class 'pandas.core.frame.DataFrame'>\n",
            "Index: 10580 entries, 0 to 19325\n",
            "Data columns (total 7 columns):\n",
            " #   Column       Non-Null Count  Dtype \n",
            "---  ------       --------------  ----- \n",
            " 0   sku          10580 non-null  object\n",
            " 1   name         10580 non-null  object\n",
            " 2   desc         10573 non-null  object\n",
            " 3   price        10534 non-null  object\n",
            " 4   promo_price  10580 non-null  object\n",
            " 5   in_stock     10580 non-null  int64 \n",
            " 6   type         10530 non-null  object\n",
            "dtypes: int64(1), object(6)\n",
            "memory usage: 661.2+ KB\n"
          ]
        }
      ],
      "source": [
        "#verifying duplicates have been removed\n",
        "#original number 19326 - -8746 removed = updated number 10580\n",
        "products_df.info()"
      ]
    },
    {
      "cell_type": "code",
      "execution_count": null,
      "metadata": {
        "colab": {
          "base_uri": "https://localhost:8080/"
        },
        "id": "zI7DMuz-iEA5",
        "outputId": "d687d8b9-5c64-4eaf-89df-fff7e5da9671"
      },
      "outputs": [
        {
          "name": "stdout",
          "output_type": "stream",
          "text": [
            "<class 'pandas.core.frame.DataFrame'>\n",
            "RangeIndex: 187 entries, 0 to 186\n",
            "Data columns (total 2 columns):\n",
            " #   Column  Non-Null Count  Dtype \n",
            "---  ------  --------------  ----- \n",
            " 0   short   187 non-null    object\n",
            " 1   long    187 non-null    object\n",
            "dtypes: object(2)\n",
            "memory usage: 3.0+ KB\n"
          ]
        }
      ],
      "source": [
        "#brands_df - no duplicates\n",
        "brands_df.info()"
      ]
    },
    {
      "cell_type": "markdown",
      "metadata": {
        "id": "3vpX9d0IqDo7"
      },
      "source": [
        "**Data status after duplicates have been removed**\n",
        "\n",
        "orders: (226909, 4) => (226909, 4)\n",
        "\n",
        "orderlines:(293983, 7) ==> (293983, 7)\n",
        "\n",
        "products:(19326, 7) ==> (10580, 7)\n",
        "\n",
        "brands:(187, 2)==> (187, 2)"
      ]
    },
    {
      "cell_type": "markdown",
      "metadata": {
        "id": "uMDG9uJcf2NQ"
      },
      "source": [
        "### Removal of missing values"
      ]
    },
    {
      "cell_type": "code",
      "execution_count": null,
      "metadata": {
        "colab": {
          "base_uri": "https://localhost:8080/"
        },
        "id": "ahfp2qz2gClc",
        "outputId": "852093e0-69fd-4595-9eed-dfeeb54a0a31"
      },
      "outputs": [
        {
          "data": {
            "text/plain": [
              "5"
            ]
          },
          "execution_count": 300,
          "metadata": {},
          "output_type": "execute_result"
        }
      ],
      "source": [
        "#orders missing 5 values\n",
        "orders_df.total_paid.isna().sum()"
      ]
    },
    {
      "cell_type": "code",
      "execution_count": null,
      "metadata": {
        "id": "Z7_f0bU6gGMz"
      },
      "outputs": [],
      "source": [
        "#orders missing values removed\n",
        "orders_df = orders_df.loc[~orders_df.total_paid.isna(), :]"
      ]
    },
    {
      "cell_type": "code",
      "execution_count": null,
      "metadata": {
        "colab": {
          "base_uri": "https://localhost:8080/"
        },
        "id": "mlS1GfWfgL-o",
        "outputId": "38f27f27-ba7a-460f-866c-71bd96043381"
      },
      "outputs": [
        {
          "name": "stdout",
          "output_type": "stream",
          "text": [
            "<class 'pandas.core.frame.DataFrame'>\n",
            "RangeIndex: 293983 entries, 0 to 293982\n",
            "Data columns (total 7 columns):\n",
            " #   Column            Non-Null Count   Dtype \n",
            "---  ------            --------------   ----- \n",
            " 0   id                293983 non-null  int64 \n",
            " 1   id_order          293983 non-null  int64 \n",
            " 2   product_id        293983 non-null  int64 \n",
            " 3   product_quantity  293983 non-null  int64 \n",
            " 4   sku               293983 non-null  object\n",
            " 5   unit_price        293983 non-null  object\n",
            " 6   date              293983 non-null  object\n",
            "dtypes: int64(4), object(3)\n",
            "memory usage: 15.7+ MB\n"
          ]
        }
      ],
      "source": [
        "#orderlines has no missing values\n",
        "orderlines_df.info()"
      ]
    },
    {
      "cell_type": "code",
      "execution_count": null,
      "metadata": {
        "colab": {
          "base_uri": "https://localhost:8080/"
        },
        "id": "eVQS6NFGgz1V",
        "outputId": "ada8a196-01e0-4403-8c7d-f75e98eb220a"
      },
      "outputs": [
        {
          "name": "stdout",
          "output_type": "stream",
          "text": [
            "<class 'pandas.core.frame.DataFrame'>\n",
            "Index: 10580 entries, 0 to 19325\n",
            "Data columns (total 7 columns):\n",
            " #   Column       Non-Null Count  Dtype \n",
            "---  ------       --------------  ----- \n",
            " 0   sku          10580 non-null  object\n",
            " 1   name         10580 non-null  object\n",
            " 2   desc         10573 non-null  object\n",
            " 3   price        10534 non-null  object\n",
            " 4   promo_price  10580 non-null  object\n",
            " 5   in_stock     10580 non-null  int64 \n",
            " 6   type         10530 non-null  object\n",
            "dtypes: int64(1), object(6)\n",
            "memory usage: 661.2+ KB\n"
          ]
        }
      ],
      "source": [
        "#products has 3 columns missing values\n",
        "# 7 values are missing from the desc column\n",
        "# 46 values are missing from the price column\n",
        "# 50 values are missing from the type column -- !!!BUT we will not remove it as it was not done officially by WBS!!!\n",
        "products_df.info()"
      ]
    },
    {
      "cell_type": "code",
      "execution_count": null,
      "metadata": {
        "id": "GPum_9bigPYc"
      },
      "outputs": [],
      "source": [
        "#copying product names to the missing description values for the same row, in case we want to use the description column at some point (per instructor)\n",
        "#the 7 rows that previously had missing information for \"desc\" have not been deleted, because of the above copying step\n",
        "\n",
        "products_df.loc[products_df['desc'].isna(), 'desc'] = products_df.loc[products_df['desc'].isna(), 'name']"
      ]
    },
    {
      "cell_type": "code",
      "execution_count": null,
      "metadata": {
        "colab": {
          "base_uri": "https://localhost:8080/"
        },
        "id": "VJokrbVCuNCa",
        "outputId": "7afcb5f5-86d2-418b-c50f-ab9247fc2586"
      },
      "outputs": [
        {
          "name": "stdout",
          "output_type": "stream",
          "text": [
            "<class 'pandas.core.frame.DataFrame'>\n",
            "Index: 10580 entries, 0 to 19325\n",
            "Data columns (total 7 columns):\n",
            " #   Column       Non-Null Count  Dtype \n",
            "---  ------       --------------  ----- \n",
            " 0   sku          10580 non-null  object\n",
            " 1   name         10580 non-null  object\n",
            " 2   desc         10580 non-null  object\n",
            " 3   price        10534 non-null  object\n",
            " 4   promo_price  10580 non-null  object\n",
            " 5   in_stock     10580 non-null  int64 \n",
            " 6   type         10530 non-null  object\n",
            "dtypes: int64(1), object(6)\n",
            "memory usage: 661.2+ KB\n"
          ]
        }
      ],
      "source": [
        "products_df.info()"
      ]
    },
    {
      "cell_type": "code",
      "execution_count": null,
      "metadata": {
        "id": "fyX16l8mkYGl"
      },
      "outputs": [],
      "source": [
        "#deleting price rows with missing values\n",
        "products_df = products_df.loc[~products_df.price.isna(), :]"
      ]
    },
    {
      "cell_type": "code",
      "execution_count": null,
      "metadata": {
        "colab": {
          "base_uri": "https://localhost:8080/"
        },
        "id": "vCE1o3ZavvDA",
        "outputId": "a6b24306-835f-43de-df9b-08b55b1cd731"
      },
      "outputs": [
        {
          "name": "stdout",
          "output_type": "stream",
          "text": [
            "<class 'pandas.core.frame.DataFrame'>\n",
            "Index: 10534 entries, 0 to 19325\n",
            "Data columns (total 7 columns):\n",
            " #   Column       Non-Null Count  Dtype \n",
            "---  ------       --------------  ----- \n",
            " 0   sku          10534 non-null  object\n",
            " 1   name         10534 non-null  object\n",
            " 2   desc         10534 non-null  object\n",
            " 3   price        10534 non-null  object\n",
            " 4   promo_price  10534 non-null  object\n",
            " 5   in_stock     10534 non-null  int64 \n",
            " 6   type         10484 non-null  object\n",
            "dtypes: int64(1), object(6)\n",
            "memory usage: 658.4+ KB\n"
          ]
        }
      ],
      "source": [
        "products_df.info()"
      ]
    },
    {
      "cell_type": "markdown",
      "metadata": {
        "id": "UStkfXblqtnz"
      },
      "source": [
        "**Data status after missing values have been removed**\n",
        "\n",
        "orders: (226909, 4) => (226909, 4) ==> (226904, 4)\n",
        "\n",
        "orderlines:(293983, 7) ==> (293983, 7) ==> (293983, 7)\n",
        "\n",
        "products:(19326, 7) ==> (10580, 7) ==> (10534, 7)\n",
        "\n",
        "brands:(187, 2)==> (187, 2) ==> (187, 2)"
      ]
    },
    {
      "cell_type": "markdown",
      "metadata": {
        "id": "HeVEIABYrFXu"
      },
      "source": [
        "### Removal of two-dot problem (and column \"promo_price\")"
      ]
    },
    {
      "cell_type": "markdown",
      "metadata": {
        "id": "OrzrbS_tt3uh"
      },
      "source": [
        "Removal from orderlines DataFrame"
      ]
    },
    {
      "cell_type": "code",
      "execution_count": null,
      "metadata": {
        "id": "9F_hniJjuBdh"
      },
      "outputs": [],
      "source": [
        "two_dot_order_ids_list = orderlines_df.loc[orderlines_df.unit_price.str.contains(\"\\d+\\.\\d+\\.\\d+\"), \"id_order\"]\n",
        "orderlines_df = orderlines_df.loc[~orderlines_df.id_order.isin(two_dot_order_ids_list)]"
      ]
    },
    {
      "cell_type": "code",
      "execution_count": null,
      "metadata": {
        "colab": {
          "base_uri": "https://localhost:8080/"
        },
        "id": "oDh6qXCtuMnU",
        "outputId": "57d67a7d-6862-437f-c393-525b26b915dc"
      },
      "outputs": [
        {
          "data": {
            "text/plain": [
              "(216250, 7)"
            ]
          },
          "execution_count": 309,
          "metadata": {},
          "output_type": "execute_result"
        }
      ],
      "source": [
        "orderlines_df.shape"
      ]
    },
    {
      "cell_type": "code",
      "execution_count": null,
      "metadata": {
        "colab": {
          "base_uri": "https://localhost:8080/"
        },
        "id": "QKQhzHACcdrt",
        "outputId": "61f9431c-33f0-4bb0-b5bf-0deb14deaba4"
      },
      "outputs": [],
      "source": [
        "orderlines_df[\"unit_price\"] = pd.to_numeric(orderlines_df[\"unit_price\"])"
      ]
    },
    {
      "cell_type": "markdown",
      "metadata": {
        "id": "uswRFE6gtxJP"
      },
      "source": [
        "Removals from products DataFrame"
      ]
    },
    {
      "cell_type": "code",
      "execution_count": null,
      "metadata": {
        "colab": {
          "base_uri": "https://localhost:8080/"
        },
        "id": "42LbN1WkowT_",
        "outputId": "9fa484fd-a1f3-48db-c6f6-baed6fffd37f"
      },
      "outputs": [
        {
          "data": {
            "text/plain": [
              "542"
            ]
          },
          "execution_count": 311,
          "metadata": {},
          "output_type": "execute_result"
        }
      ],
      "source": [
        "#looking at how many rows in products (column \"price\") have the two-dot problem and have corrupted entry (i.e. multiple figures after ",")= 542\n",
        "price_problems_number = products_df.loc[(products_df.price.astype(str).str.contains(\"\\d+\\.\\d+\\.\\d+\"))|(products_df.price.astype(str).str.contains(\"\\d+\\.\\d{3,}\")), :].shape[0]\n",
        "price_problems_number"
      ]
    },
    {
      "cell_type": "code",
      "execution_count": null,
      "metadata": {
        "id": "2cThsKbTrgdU"
      },
      "outputs": [],
      "source": [
        "#removing the problem from products\n",
        "products_df = products_df.loc[(~products_df.price.astype(str).str.contains(\"\\d+\\.\\d+\\.\\d+\"))&(~products_df.price.astype(str).str.contains(\"\\d+\\.\\d{3,}\")), :]"
      ]
    },
    {
      "cell_type": "code",
      "execution_count": null,
      "metadata": {
        "colab": {
          "base_uri": "https://localhost:8080/"
        },
        "id": "eOyBZQMtpMpE",
        "outputId": "adbb160e-41ce-4f40-cb19-27419efd7c30"
      },
      "outputs": [
        {
          "name": "stdout",
          "output_type": "stream",
          "text": [
            "<class 'pandas.core.frame.DataFrame'>\n",
            "Index: 9992 entries, 0 to 19325\n",
            "Data columns (total 7 columns):\n",
            " #   Column       Non-Null Count  Dtype \n",
            "---  ------       --------------  ----- \n",
            " 0   sku          9992 non-null   object\n",
            " 1   name         9992 non-null   object\n",
            " 2   desc         9992 non-null   object\n",
            " 3   price        9992 non-null   object\n",
            " 4   promo_price  9992 non-null   object\n",
            " 5   in_stock     9992 non-null   int64 \n",
            " 6   type         9946 non-null   object\n",
            "dtypes: int64(1), object(6)\n",
            "memory usage: 624.5+ KB\n"
          ]
        }
      ],
      "source": [
        "#original count was 10580 - 588 removed = 9992 now\n",
        "products_df.info()"
      ]
    },
    {
      "cell_type": "code",
      "execution_count": null,
      "metadata": {
        "colab": {
          "base_uri": "https://localhost:8080/"
        },
        "id": "wFmaoJsTs8ma",
        "outputId": "2e7e64db-0f2c-4cec-a3a9-e4ba86c0cb05"
      },
      "outputs": [
        {
          "data": {
            "text/plain": [
              "9232"
            ]
          },
          "execution_count": 314,
          "metadata": {},
          "output_type": "execute_result"
        }
      ],
      "source": [
        "#looking at how many rows in products (column \"promo_price\") have the two-dot problem  = 9232\n",
        "promo_problems_number = products_df.loc[(products_df.promo_price.astype(str).str.contains(\"\\d+\\.\\d+\\.\\d+\"))|(products_df.promo_price.astype(str).str.contains(\"\\d+\\.\\d{3,}\")), :].shape[0]\n",
        "promo_problems_number"
      ]
    },
    {
      "cell_type": "code",
      "execution_count": null,
      "metadata": {
        "colab": {
          "base_uri": "https://localhost:8080/"
        },
        "id": "e6PPJWq7qlUY",
        "outputId": "2495fc51-0223-4814-b247-4403f365abed"
      },
      "outputs": [
        {
          "name": "stdout",
          "output_type": "stream",
          "text": [
            "The column promo_price has in total 9232 wrong values. This is 92.39% of the rows of the DataFrame\n"
          ]
        }
      ],
      "source": [
        "#over 90% of the values in promo_price are two-dotted\n",
        "print(f\"The column promo_price has in total {promo_problems_number} wrong values. This is {round(((promo_problems_number / products_df.shape[0]) * 100), 2)}% of the rows of the DataFrame\")"
      ]
    },
    {
      "cell_type": "code",
      "execution_count": null,
      "metadata": {
        "id": "lAV-CRI7tNLj"
      },
      "outputs": [],
      "source": [
        "#as over 90% of the data in the column is corrupt, complete column will be deleted\n",
        "\n",
        "#completely deleting promo_price column\n",
        "products_df = products_df.drop(columns=[\"promo_price\"])"
      ]
    },
    {
      "cell_type": "markdown",
      "metadata": {
        "id": "FdtV8RlIrHBt"
      },
      "source": [
        "**Data status after two-dot problem has been removed**\n",
        "\n",
        "orders: (226909, 4) => (226909, 4) ==> (226904, 4) ==> (226904, 4)\n",
        "\n",
        "orderlines:(293983, 7) ==> (293983, 7) ==> (293983, 7) ==> (216250, 7)\n",
        "\n",
        "products:(19326, 7) ==> (10580, 7) ==> (10534, 7) ==> (9992, 6)\n",
        "\n",
        "brands:(187, 2)==> (187, 2) ==> (187, 2) ==> (187, 2)"
      ]
    },
    {
      "cell_type": "markdown",
      "metadata": {
        "id": "rdLT79wbiNE3"
      },
      "source": [
        "### Removal of unwanted states"
      ]
    },
    {
      "cell_type": "code",
      "execution_count": null,
      "metadata": {
        "colab": {
          "base_uri": "https://localhost:8080/",
          "height": 211
        },
        "id": "WncCSVKEjmuR",
        "outputId": "d096aae7-9549-4d90-ce8b-c5ae1f7107d8"
      },
      "outputs": [],
      "source": [
        "#making copies\n",
        "o_df=orders_df.copy()\n",
        "ol_df=orderlines_df.copy()\n",
        "p_df=products_df.copy()\n",
        "b_df=brands_df.copy()"
      ]
    },
    {
      "cell_type": "code",
      "execution_count": null,
      "metadata": {
        "id": "ycv2ptoHiXh0"
      },
      "outputs": [],
      "source": [
        "#changing datatype\n",
        "o_df[\"created_date\"]=pd.to_datetime(o_df[\"created_date\"])\n",
        "ol_df[\"date\"]=pd.to_datetime(ol_df[\"date\"])"
      ]
    },
    {
      "cell_type": "code",
      "execution_count": null,
      "metadata": {
        "colab": {
          "base_uri": "https://localhost:8080/",
          "height": 423
        },
        "id": "6jRVm9kL3Sbe",
        "outputId": "2a01cc79-b2b7-4f53-e954-5c8f2c85a7be"
      },
      "outputs": [
        {
          "data": {
            "application/vnd.google.colaboratory.intrinsic+json": {
              "repr_error": "0",
              "type": "dataframe"
            },
            "text/html": [
              "\n",
              "  <div id=\"df-1daec596-83a2-4e91-86e2-3ece0f00a060\" class=\"colab-df-container\">\n",
              "    <div>\n",
              "<style scoped>\n",
              "    .dataframe tbody tr th:only-of-type {\n",
              "        vertical-align: middle;\n",
              "    }\n",
              "\n",
              "    .dataframe tbody tr th {\n",
              "        vertical-align: top;\n",
              "    }\n",
              "\n",
              "    .dataframe thead th {\n",
              "        text-align: right;\n",
              "    }\n",
              "</style>\n",
              "<table border=\"1\" class=\"dataframe\">\n",
              "  <thead>\n",
              "    <tr style=\"text-align: right;\">\n",
              "      <th></th>\n",
              "      <th>order_id</th>\n",
              "      <th>created_date</th>\n",
              "      <th>total_paid</th>\n",
              "      <th>state</th>\n",
              "    </tr>\n",
              "  </thead>\n",
              "  <tbody>\n",
              "    <tr>\n",
              "      <th>1</th>\n",
              "      <td>241423</td>\n",
              "      <td>2017-11-06 13:10:02</td>\n",
              "      <td>136.15</td>\n",
              "      <td>Completed</td>\n",
              "    </tr>\n",
              "    <tr>\n",
              "      <th>2</th>\n",
              "      <td>242832</td>\n",
              "      <td>2017-12-31 17:40:03</td>\n",
              "      <td>15.76</td>\n",
              "      <td>Completed</td>\n",
              "    </tr>\n",
              "    <tr>\n",
              "      <th>3</th>\n",
              "      <td>243330</td>\n",
              "      <td>2017-02-16 10:59:38</td>\n",
              "      <td>84.98</td>\n",
              "      <td>Completed</td>\n",
              "    </tr>\n",
              "    <tr>\n",
              "      <th>5</th>\n",
              "      <td>245275</td>\n",
              "      <td>2017-06-28 11:35:37</td>\n",
              "      <td>149.00</td>\n",
              "      <td>Completed</td>\n",
              "    </tr>\n",
              "    <tr>\n",
              "      <th>6</th>\n",
              "      <td>245595</td>\n",
              "      <td>2017-01-21 12:52:47</td>\n",
              "      <td>112.97</td>\n",
              "      <td>Completed</td>\n",
              "    </tr>\n",
              "    <tr>\n",
              "      <th>...</th>\n",
              "      <td>...</td>\n",
              "      <td>...</td>\n",
              "      <td>...</td>\n",
              "      <td>...</td>\n",
              "    </tr>\n",
              "    <tr>\n",
              "      <th>226549</th>\n",
              "      <td>527042</td>\n",
              "      <td>2018-03-14 11:47:50</td>\n",
              "      <td>18.98</td>\n",
              "      <td>Completed</td>\n",
              "    </tr>\n",
              "    <tr>\n",
              "      <th>226577</th>\n",
              "      <td>527070</td>\n",
              "      <td>2018-03-14 11:50:48</td>\n",
              "      <td>24.97</td>\n",
              "      <td>Completed</td>\n",
              "    </tr>\n",
              "    <tr>\n",
              "      <th>226581</th>\n",
              "      <td>527074</td>\n",
              "      <td>2018-03-14 11:51:42</td>\n",
              "      <td>24.97</td>\n",
              "      <td>Completed</td>\n",
              "    </tr>\n",
              "    <tr>\n",
              "      <th>226603</th>\n",
              "      <td>527096</td>\n",
              "      <td>2018-03-14 11:58:40</td>\n",
              "      <td>34.96</td>\n",
              "      <td>Completed</td>\n",
              "    </tr>\n",
              "    <tr>\n",
              "      <th>226619</th>\n",
              "      <td>527112</td>\n",
              "      <td>2018-03-14 12:03:52</td>\n",
              "      <td>14.98</td>\n",
              "      <td>Completed</td>\n",
              "    </tr>\n",
              "  </tbody>\n",
              "</table>\n",
              "<p>46605 rows × 4 columns</p>\n",
              "</div>\n",
              "    <div class=\"colab-df-buttons\">\n",
              "\n",
              "  <div class=\"colab-df-container\">\n",
              "    <button class=\"colab-df-convert\" onclick=\"convertToInteractive('df-1daec596-83a2-4e91-86e2-3ece0f00a060')\"\n",
              "            title=\"Convert this dataframe to an interactive table.\"\n",
              "            style=\"display:none;\">\n",
              "\n",
              "  <svg xmlns=\"http://www.w3.org/2000/svg\" height=\"24px\" viewBox=\"0 -960 960 960\">\n",
              "    <path d=\"M120-120v-720h720v720H120Zm60-500h600v-160H180v160Zm220 220h160v-160H400v160Zm0 220h160v-160H400v160ZM180-400h160v-160H180v160Zm440 0h160v-160H620v160ZM180-180h160v-160H180v160Zm440 0h160v-160H620v160Z\"/>\n",
              "  </svg>\n",
              "    </button>\n",
              "\n",
              "  <style>\n",
              "    .colab-df-container {\n",
              "      display:flex;\n",
              "      gap: 12px;\n",
              "    }\n",
              "\n",
              "    .colab-df-convert {\n",
              "      background-color: #E8F0FE;\n",
              "      border: none;\n",
              "      border-radius: 50%;\n",
              "      cursor: pointer;\n",
              "      display: none;\n",
              "      fill: #1967D2;\n",
              "      height: 32px;\n",
              "      padding: 0 0 0 0;\n",
              "      width: 32px;\n",
              "    }\n",
              "\n",
              "    .colab-df-convert:hover {\n",
              "      background-color: #E2EBFA;\n",
              "      box-shadow: 0px 1px 2px rgba(60, 64, 67, 0.3), 0px 1px 3px 1px rgba(60, 64, 67, 0.15);\n",
              "      fill: #174EA6;\n",
              "    }\n",
              "\n",
              "    .colab-df-buttons div {\n",
              "      margin-bottom: 4px;\n",
              "    }\n",
              "\n",
              "    [theme=dark] .colab-df-convert {\n",
              "      background-color: #3B4455;\n",
              "      fill: #D2E3FC;\n",
              "    }\n",
              "\n",
              "    [theme=dark] .colab-df-convert:hover {\n",
              "      background-color: #434B5C;\n",
              "      box-shadow: 0px 1px 3px 1px rgba(0, 0, 0, 0.15);\n",
              "      filter: drop-shadow(0px 1px 2px rgba(0, 0, 0, 0.3));\n",
              "      fill: #FFFFFF;\n",
              "    }\n",
              "  </style>\n",
              "\n",
              "    <script>\n",
              "      const buttonEl =\n",
              "        document.querySelector('#df-1daec596-83a2-4e91-86e2-3ece0f00a060 button.colab-df-convert');\n",
              "      buttonEl.style.display =\n",
              "        google.colab.kernel.accessAllowed ? 'block' : 'none';\n",
              "\n",
              "      async function convertToInteractive(key) {\n",
              "        const element = document.querySelector('#df-1daec596-83a2-4e91-86e2-3ece0f00a060');\n",
              "        const dataTable =\n",
              "          await google.colab.kernel.invokeFunction('convertToInteractive',\n",
              "                                                    [key], {});\n",
              "        if (!dataTable) return;\n",
              "\n",
              "        const docLinkHtml = 'Like what you see? Visit the ' +\n",
              "          '<a target=\"_blank\" href=https://colab.research.google.com/notebooks/data_table.ipynb>data table notebook</a>'\n",
              "          + ' to learn more about interactive tables.';\n",
              "        element.innerHTML = '';\n",
              "        dataTable['output_type'] = 'display_data';\n",
              "        await google.colab.output.renderOutput(dataTable, element);\n",
              "        const docLink = document.createElement('div');\n",
              "        docLink.innerHTML = docLinkHtml;\n",
              "        element.appendChild(docLink);\n",
              "      }\n",
              "    </script>\n",
              "  </div>\n",
              "\n",
              "\n",
              "<div id=\"df-43d19de9-fc27-44b3-ac3b-386bc0ba14c0\">\n",
              "  <button class=\"colab-df-quickchart\" onclick=\"quickchart('df-43d19de9-fc27-44b3-ac3b-386bc0ba14c0')\"\n",
              "            title=\"Suggest charts\"\n",
              "            style=\"display:none;\">\n",
              "\n",
              "<svg xmlns=\"http://www.w3.org/2000/svg\" height=\"24px\"viewBox=\"0 0 24 24\"\n",
              "     width=\"24px\">\n",
              "    <g>\n",
              "        <path d=\"M19 3H5c-1.1 0-2 .9-2 2v14c0 1.1.9 2 2 2h14c1.1 0 2-.9 2-2V5c0-1.1-.9-2-2-2zM9 17H7v-7h2v7zm4 0h-2V7h2v10zm4 0h-2v-4h2v4z\"/>\n",
              "    </g>\n",
              "</svg>\n",
              "  </button>\n",
              "\n",
              "<style>\n",
              "  .colab-df-quickchart {\n",
              "      --bg-color: #E8F0FE;\n",
              "      --fill-color: #1967D2;\n",
              "      --hover-bg-color: #E2EBFA;\n",
              "      --hover-fill-color: #174EA6;\n",
              "      --disabled-fill-color: #AAA;\n",
              "      --disabled-bg-color: #DDD;\n",
              "  }\n",
              "\n",
              "  [theme=dark] .colab-df-quickchart {\n",
              "      --bg-color: #3B4455;\n",
              "      --fill-color: #D2E3FC;\n",
              "      --hover-bg-color: #434B5C;\n",
              "      --hover-fill-color: #FFFFFF;\n",
              "      --disabled-bg-color: #3B4455;\n",
              "      --disabled-fill-color: #666;\n",
              "  }\n",
              "\n",
              "  .colab-df-quickchart {\n",
              "    background-color: var(--bg-color);\n",
              "    border: none;\n",
              "    border-radius: 50%;\n",
              "    cursor: pointer;\n",
              "    display: none;\n",
              "    fill: var(--fill-color);\n",
              "    height: 32px;\n",
              "    padding: 0;\n",
              "    width: 32px;\n",
              "  }\n",
              "\n",
              "  .colab-df-quickchart:hover {\n",
              "    background-color: var(--hover-bg-color);\n",
              "    box-shadow: 0 1px 2px rgba(60, 64, 67, 0.3), 0 1px 3px 1px rgba(60, 64, 67, 0.15);\n",
              "    fill: var(--button-hover-fill-color);\n",
              "  }\n",
              "\n",
              "  .colab-df-quickchart-complete:disabled,\n",
              "  .colab-df-quickchart-complete:disabled:hover {\n",
              "    background-color: var(--disabled-bg-color);\n",
              "    fill: var(--disabled-fill-color);\n",
              "    box-shadow: none;\n",
              "  }\n",
              "\n",
              "  .colab-df-spinner {\n",
              "    border: 2px solid var(--fill-color);\n",
              "    border-color: transparent;\n",
              "    border-bottom-color: var(--fill-color);\n",
              "    animation:\n",
              "      spin 1s steps(1) infinite;\n",
              "  }\n",
              "\n",
              "  @keyframes spin {\n",
              "    0% {\n",
              "      border-color: transparent;\n",
              "      border-bottom-color: var(--fill-color);\n",
              "      border-left-color: var(--fill-color);\n",
              "    }\n",
              "    20% {\n",
              "      border-color: transparent;\n",
              "      border-left-color: var(--fill-color);\n",
              "      border-top-color: var(--fill-color);\n",
              "    }\n",
              "    30% {\n",
              "      border-color: transparent;\n",
              "      border-left-color: var(--fill-color);\n",
              "      border-top-color: var(--fill-color);\n",
              "      border-right-color: var(--fill-color);\n",
              "    }\n",
              "    40% {\n",
              "      border-color: transparent;\n",
              "      border-right-color: var(--fill-color);\n",
              "      border-top-color: var(--fill-color);\n",
              "    }\n",
              "    60% {\n",
              "      border-color: transparent;\n",
              "      border-right-color: var(--fill-color);\n",
              "    }\n",
              "    80% {\n",
              "      border-color: transparent;\n",
              "      border-right-color: var(--fill-color);\n",
              "      border-bottom-color: var(--fill-color);\n",
              "    }\n",
              "    90% {\n",
              "      border-color: transparent;\n",
              "      border-bottom-color: var(--fill-color);\n",
              "    }\n",
              "  }\n",
              "</style>\n",
              "\n",
              "  <script>\n",
              "    async function quickchart(key) {\n",
              "      const quickchartButtonEl =\n",
              "        document.querySelector('#' + key + ' button');\n",
              "      quickchartButtonEl.disabled = true;  // To prevent multiple clicks.\n",
              "      quickchartButtonEl.classList.add('colab-df-spinner');\n",
              "      try {\n",
              "        const charts = await google.colab.kernel.invokeFunction(\n",
              "            'suggestCharts', [key], {});\n",
              "      } catch (error) {\n",
              "        console.error('Error during call to suggestCharts:', error);\n",
              "      }\n",
              "      quickchartButtonEl.classList.remove('colab-df-spinner');\n",
              "      quickchartButtonEl.classList.add('colab-df-quickchart-complete');\n",
              "    }\n",
              "    (() => {\n",
              "      let quickchartButtonEl =\n",
              "        document.querySelector('#df-43d19de9-fc27-44b3-ac3b-386bc0ba14c0 button');\n",
              "      quickchartButtonEl.style.display =\n",
              "        google.colab.kernel.accessAllowed ? 'block' : 'none';\n",
              "    })();\n",
              "  </script>\n",
              "</div>\n",
              "\n",
              "    </div>\n",
              "  </div>\n"
            ],
            "text/plain": [
              "        order_id         created_date  total_paid      state\n",
              "1         241423  2017-11-06 13:10:02      136.15  Completed\n",
              "2         242832  2017-12-31 17:40:03       15.76  Completed\n",
              "3         243330  2017-02-16 10:59:38       84.98  Completed\n",
              "5         245275  2017-06-28 11:35:37      149.00  Completed\n",
              "6         245595  2017-01-21 12:52:47      112.97  Completed\n",
              "...          ...                  ...         ...        ...\n",
              "226549    527042  2018-03-14 11:47:50       18.98  Completed\n",
              "226577    527070  2018-03-14 11:50:48       24.97  Completed\n",
              "226581    527074  2018-03-14 11:51:42       24.97  Completed\n",
              "226603    527096  2018-03-14 11:58:40       34.96  Completed\n",
              "226619    527112  2018-03-14 12:03:52       14.98  Completed\n",
              "\n",
              "[46605 rows x 4 columns]"
            ]
          },
          "execution_count": 5,
          "metadata": {},
          "output_type": "execute_result"
        }
      ],
      "source": [
        "#checking count per 'state':\n",
        "\n",
        "#7233 rows are \"cancelled\" only\n",
        "#o_df[o_df['state'].str.contains('cancelled', case=False, na=False)]\n",
        "\n",
        "#117809 rows are \"shopping basket\" only\n",
        "#o_df[o_df['state'].str.contains('shopping basket', case=False, na=False)]\n",
        "\n",
        "#14374 rows are \"pending\" only\n",
        "#o_df[o_df['state'].str.contains('pending', case=False, na=False)]\n",
        "\n",
        "#40883 rows are \"place order\" only\n",
        "#o_df[o_df['state'].str.contains('place order', case=False, na=False)]\n",
        "\n",
        "#46605 rows are \"completed\" only\n",
        "#o_df[o_df['state'].str.contains('completed', case=False, na=False)]"
      ]
    },
    {
      "cell_type": "code",
      "execution_count": null,
      "metadata": {
        "id": "0vp9EwYpie6L"
      },
      "outputs": [],
      "source": [
        "#keeping only rows with value \"Completed\" for column \"state\"\n",
        "#original number of rows before filtering: 226904\n",
        "#updated number of rows after filtering: 46605\n",
        "\n",
        "o_df=o_df.query(\"state=='Completed'\")"
      ]
    },
    {
      "cell_type": "code",
      "execution_count": null,
      "metadata": {
        "colab": {
          "base_uri": "https://localhost:8080/"
        },
        "id": "pNhpxC_Q43gO",
        "outputId": "c565b93b-93ab-4e99-ccc2-0f2d7dae291b"
      },
      "outputs": [
        {
          "data": {
            "text/plain": [
              "(46605, 4)"
            ]
          },
          "execution_count": 321,
          "metadata": {},
          "output_type": "execute_result"
        }
      ],
      "source": [
        "o_df.shape"
      ]
    },
    {
      "cell_type": "markdown",
      "metadata": {
        "id": "npXAAclNrhcS"
      },
      "source": [
        "**Data status after removal of unwanted states**\n",
        "\n",
        "orders: (226909, 4) => (226909, 4) ==> (226904, 4) ==> (226904, 4) ==> (46605, 4)\n",
        "\n",
        "orderlines:(293983, 7) ==> (293983, 7) ==> (293983, 7) ==> (216250, 7) ==> (216250, 7)\n",
        "\n",
        "products:(19326, 7) ==> (10580, 7) ==> (10534, 7) ==> (9992, 6) ==> (9992, 6)\n",
        "\n",
        "brands:(187, 2)==> (187, 2) ==> (187, 2) ==> (187, 2) ==> (187, 2)"
      ]
    },
    {
      "cell_type": "markdown",
      "metadata": {
        "id": "jPC-1Qtzj4GF"
      },
      "source": [
        "### Keeping only orders present in both orders and orderlines"
      ]
    },
    {
      "cell_type": "code",
      "execution_count": null,
      "metadata": {
        "id": "oEofl-IJii6J"
      },
      "outputs": [],
      "source": [
        "orders_orderlines = o_df.merge(ol_df,\n",
        "                left_on='order_id',\n",
        "                right_on='id_order',\n",
        "                how='inner')"
      ]
    },
    {
      "cell_type": "code",
      "execution_count": null,
      "metadata": {
        "colab": {
          "base_uri": "https://localhost:8080/"
        },
        "id": "3QF4PlPK4oOi",
        "outputId": "36c01766-6050-492f-f15f-0474f6c2367b"
      },
      "outputs": [
        {
          "data": {
            "text/plain": [
              "(216057, 11)"
            ]
          },
          "execution_count": 265,
          "metadata": {},
          "output_type": "execute_result"
        }
      ],
      "source": [
        "#56714=original number of rows before removing order_id rows missing from the products table\n",
        "orders_orderlines.shape"
      ]
    },
    {
      "cell_type": "code",
      "execution_count": null,
      "metadata": {
        "id": "ZJqxR3jLjce9"
      },
      "outputs": [],
      "source": [
        "order_ids = orders_orderlines['order_id'].unique()"
      ]
    },
    {
      "cell_type": "code",
      "execution_count": null,
      "metadata": {
        "id": "11fL451ojefk"
      },
      "outputs": [],
      "source": [
        "# keeping only the common order_ids in orders\n",
        "o_df = o_df.loc[o_df[\"order_id\"].isin(order_ids), :]\n",
        "\n",
        "# keeping only the common order_ids in orderlines\n",
        "ol_df = ol_df.loc[ol_df[\"id_order\"].isin(order_ids), :]"
      ]
    },
    {
      "cell_type": "code",
      "execution_count": null,
      "metadata": {
        "colab": {
          "base_uri": "https://localhost:8080/"
        },
        "id": "_Tc7Y39rjgvB",
        "outputId": "8e354327-52b4-4702-a066-9607dab59d46"
      },
      "outputs": [
        {
          "data": {
            "text/plain": [
              "(170069, 170069)"
            ]
          },
          "execution_count": 268,
          "metadata": {},
          "output_type": "execute_result"
        }
      ],
      "source": [
        "#orders and orderlines now have same amount of unique order_ids\n",
        "o_df[\"order_id\"].nunique(), ol_df[\"id_order\"].nunique()"
      ]
    },
    {
      "cell_type": "markdown",
      "metadata": {
        "id": "zO5Ns0H1sFYx"
      },
      "source": [
        "**Data status after keeping only orders present in both orders and orderlines**\n",
        "\n",
        "orders: (226909, 4) => (226909, 4) ==> (226904, 4) ==> (226904, 4) ==> (46605, 4) ==> (43064, 4)\n",
        "\n",
        "orderlines:(293983, 7) ==> (293983, 7) ==> (293983, 7) ==> (216250, 7) ==> (216250, 7) ==> (56714, 7)\n",
        "\n",
        "products:(19326, 7) ==> (10580, 7) ==> (10534, 7) ==> (9992, 6) ==> (9992, 6) ==> (9992, 6)\n",
        "\n",
        "brands:(187, 2)==> (187, 2) ==> (187, 2) ==> (187, 2) ==> (187, 2) ==> (187, 2)"
      ]
    },
    {
      "cell_type": "markdown",
      "metadata": {
        "id": "S3Oi0QtvnJ-p"
      },
      "source": [
        "### Removal of unknown products"
      ]
    },
    {
      "cell_type": "code",
      "execution_count": null,
      "metadata": {
        "colab": {
          "base_uri": "https://localhost:8080/",
          "height": 362
        },
        "id": "bHO0XjIknJjl",
        "outputId": "a2bdd98c-a079-4217-da83-1e34467f3694"
      },
      "outputs": [
        {
          "data": {
            "application/vnd.google.colaboratory.intrinsic+json": {
              "summary": "{\n  \"name\": \"orderlines_products\",\n  \"rows\": 10,\n  \"fields\": [\n    {\n      \"column\": \"id_order\",\n      \"properties\": {\n        \"dtype\": \"number\",\n        \"std\": 61567,\n        \"min\": 323388,\n        \"max\": 498974,\n        \"num_unique_values\": 10,\n        \"samples\": [\n          373022,\n          391819,\n          333106\n        ],\n        \"semantic_type\": \"\",\n        \"description\": \"\"\n      }\n    },\n    {\n      \"column\": \"sku\",\n      \"properties\": {\n        \"dtype\": \"string\",\n        \"num_unique_values\": 10,\n        \"samples\": [\n          \"APP0409\",\n          \"TPL0036\",\n          \"SAN0098\"\n        ],\n        \"semantic_type\": \"\",\n        \"description\": \"\"\n      }\n    },\n    {\n      \"column\": \"name\",\n      \"properties\": {\n        \"dtype\": \"string\",\n        \"num_unique_values\": 9,\n        \"samples\": [\n          \"Apple 85W MagSafe 2 charger MacBook Pro Retina screen 15 ''\",\n          \"Case Apple iPhone 6 Plus / 6s Plus Silicone Case Charcoal Gray\",\n          \"GlassGuard iFrogz iPhone Screen Saver 7 / 6s / 6\"\n        ],\n        \"semantic_type\": \"\",\n        \"description\": \"\"\n      }\n    }\n  ]\n}",
              "type": "dataframe"
            },
            "text/html": [
              "\n",
              "  <div id=\"df-bd947833-f985-44cd-a8b6-078129aaba22\" class=\"colab-df-container\">\n",
              "    <div>\n",
              "<style scoped>\n",
              "    .dataframe tbody tr th:only-of-type {\n",
              "        vertical-align: middle;\n",
              "    }\n",
              "\n",
              "    .dataframe tbody tr th {\n",
              "        vertical-align: top;\n",
              "    }\n",
              "\n",
              "    .dataframe thead th {\n",
              "        text-align: right;\n",
              "    }\n",
              "</style>\n",
              "<table border=\"1\" class=\"dataframe\">\n",
              "  <thead>\n",
              "    <tr style=\"text-align: right;\">\n",
              "      <th></th>\n",
              "      <th>id_order</th>\n",
              "      <th>sku</th>\n",
              "      <th>name</th>\n",
              "    </tr>\n",
              "  </thead>\n",
              "  <tbody>\n",
              "    <tr>\n",
              "      <th>92117</th>\n",
              "      <td>390730</td>\n",
              "      <td>OWC0218</td>\n",
              "      <td>SSD expansion kit OWC Aura Pro 6G 120GB MacBoo...</td>\n",
              "    </tr>\n",
              "    <tr>\n",
              "      <th>93198</th>\n",
              "      <td>391819</td>\n",
              "      <td>TPL0036</td>\n",
              "      <td>NaN</td>\n",
              "    </tr>\n",
              "    <tr>\n",
              "      <th>114051</th>\n",
              "      <td>413539</td>\n",
              "      <td>APP1155</td>\n",
              "      <td>Case Apple iPhone 6 Plus / 6s Plus Silicone Ca...</td>\n",
              "    </tr>\n",
              "    <tr>\n",
              "      <th>186849</th>\n",
              "      <td>494583</td>\n",
              "      <td>PHI0076</td>\n",
              "      <td>Philips Hue Motion Motion Sensor</td>\n",
              "    </tr>\n",
              "    <tr>\n",
              "      <th>190724</th>\n",
              "      <td>498974</td>\n",
              "      <td>SYN0093</td>\n",
              "      <td>Synology Pack 8 IP camera license</td>\n",
              "    </tr>\n",
              "    <tr>\n",
              "      <th>34558</th>\n",
              "      <td>333106</td>\n",
              "      <td>SAN0098</td>\n",
              "      <td>SanDisk Connect Wireless Flash Drive 32GB Wire...</td>\n",
              "    </tr>\n",
              "    <tr>\n",
              "      <th>91497</th>\n",
              "      <td>390092</td>\n",
              "      <td>IFR0013</td>\n",
              "      <td>GlassGuard iFrogz iPhone Screen Saver 7 / 6s / 6</td>\n",
              "    </tr>\n",
              "    <tr>\n",
              "      <th>24518</th>\n",
              "      <td>323388</td>\n",
              "      <td>FCM0016-2</td>\n",
              "      <td>Mac memory FCM 8GB (2x4GB) SO-DIMM DDR3 1333MHz</td>\n",
              "    </tr>\n",
              "    <tr>\n",
              "      <th>74789</th>\n",
              "      <td>373022</td>\n",
              "      <td>APP0409</td>\n",
              "      <td>Apple 85W MagSafe 2 charger MacBook Pro Retina...</td>\n",
              "    </tr>\n",
              "    <tr>\n",
              "      <th>162330</th>\n",
              "      <td>466658</td>\n",
              "      <td>SEA0110</td>\n",
              "      <td>Seagate Hard Drive 4TB NAS IronWolf SATA 3</td>\n",
              "    </tr>\n",
              "  </tbody>\n",
              "</table>\n",
              "</div>\n",
              "    <div class=\"colab-df-buttons\">\n",
              "\n",
              "  <div class=\"colab-df-container\">\n",
              "    <button class=\"colab-df-convert\" onclick=\"convertToInteractive('df-bd947833-f985-44cd-a8b6-078129aaba22')\"\n",
              "            title=\"Convert this dataframe to an interactive table.\"\n",
              "            style=\"display:none;\">\n",
              "\n",
              "  <svg xmlns=\"http://www.w3.org/2000/svg\" height=\"24px\" viewBox=\"0 -960 960 960\">\n",
              "    <path d=\"M120-120v-720h720v720H120Zm60-500h600v-160H180v160Zm220 220h160v-160H400v160Zm0 220h160v-160H400v160ZM180-400h160v-160H180v160Zm440 0h160v-160H620v160ZM180-180h160v-160H180v160Zm440 0h160v-160H620v160Z\"/>\n",
              "  </svg>\n",
              "    </button>\n",
              "\n",
              "  <style>\n",
              "    .colab-df-container {\n",
              "      display:flex;\n",
              "      gap: 12px;\n",
              "    }\n",
              "\n",
              "    .colab-df-convert {\n",
              "      background-color: #E8F0FE;\n",
              "      border: none;\n",
              "      border-radius: 50%;\n",
              "      cursor: pointer;\n",
              "      display: none;\n",
              "      fill: #1967D2;\n",
              "      height: 32px;\n",
              "      padding: 0 0 0 0;\n",
              "      width: 32px;\n",
              "    }\n",
              "\n",
              "    .colab-df-convert:hover {\n",
              "      background-color: #E2EBFA;\n",
              "      box-shadow: 0px 1px 2px rgba(60, 64, 67, 0.3), 0px 1px 3px 1px rgba(60, 64, 67, 0.15);\n",
              "      fill: #174EA6;\n",
              "    }\n",
              "\n",
              "    .colab-df-buttons div {\n",
              "      margin-bottom: 4px;\n",
              "    }\n",
              "\n",
              "    [theme=dark] .colab-df-convert {\n",
              "      background-color: #3B4455;\n",
              "      fill: #D2E3FC;\n",
              "    }\n",
              "\n",
              "    [theme=dark] .colab-df-convert:hover {\n",
              "      background-color: #434B5C;\n",
              "      box-shadow: 0px 1px 3px 1px rgba(0, 0, 0, 0.15);\n",
              "      filter: drop-shadow(0px 1px 2px rgba(0, 0, 0, 0.3));\n",
              "      fill: #FFFFFF;\n",
              "    }\n",
              "  </style>\n",
              "\n",
              "    <script>\n",
              "      const buttonEl =\n",
              "        document.querySelector('#df-bd947833-f985-44cd-a8b6-078129aaba22 button.colab-df-convert');\n",
              "      buttonEl.style.display =\n",
              "        google.colab.kernel.accessAllowed ? 'block' : 'none';\n",
              "\n",
              "      async function convertToInteractive(key) {\n",
              "        const element = document.querySelector('#df-bd947833-f985-44cd-a8b6-078129aaba22');\n",
              "        const dataTable =\n",
              "          await google.colab.kernel.invokeFunction('convertToInteractive',\n",
              "                                                    [key], {});\n",
              "        if (!dataTable) return;\n",
              "\n",
              "        const docLinkHtml = 'Like what you see? Visit the ' +\n",
              "          '<a target=\"_blank\" href=https://colab.research.google.com/notebooks/data_table.ipynb>data table notebook</a>'\n",
              "          + ' to learn more about interactive tables.';\n",
              "        element.innerHTML = '';\n",
              "        dataTable['output_type'] = 'display_data';\n",
              "        await google.colab.output.renderOutput(dataTable, element);\n",
              "        const docLink = document.createElement('div');\n",
              "        docLink.innerHTML = docLinkHtml;\n",
              "        element.appendChild(docLink);\n",
              "      }\n",
              "    </script>\n",
              "  </div>\n",
              "\n",
              "\n",
              "<div id=\"df-f6cab460-8a32-40d6-8941-ac76f9ba8811\">\n",
              "  <button class=\"colab-df-quickchart\" onclick=\"quickchart('df-f6cab460-8a32-40d6-8941-ac76f9ba8811')\"\n",
              "            title=\"Suggest charts\"\n",
              "            style=\"display:none;\">\n",
              "\n",
              "<svg xmlns=\"http://www.w3.org/2000/svg\" height=\"24px\"viewBox=\"0 0 24 24\"\n",
              "     width=\"24px\">\n",
              "    <g>\n",
              "        <path d=\"M19 3H5c-1.1 0-2 .9-2 2v14c0 1.1.9 2 2 2h14c1.1 0 2-.9 2-2V5c0-1.1-.9-2-2-2zM9 17H7v-7h2v7zm4 0h-2V7h2v10zm4 0h-2v-4h2v4z\"/>\n",
              "    </g>\n",
              "</svg>\n",
              "  </button>\n",
              "\n",
              "<style>\n",
              "  .colab-df-quickchart {\n",
              "      --bg-color: #E8F0FE;\n",
              "      --fill-color: #1967D2;\n",
              "      --hover-bg-color: #E2EBFA;\n",
              "      --hover-fill-color: #174EA6;\n",
              "      --disabled-fill-color: #AAA;\n",
              "      --disabled-bg-color: #DDD;\n",
              "  }\n",
              "\n",
              "  [theme=dark] .colab-df-quickchart {\n",
              "      --bg-color: #3B4455;\n",
              "      --fill-color: #D2E3FC;\n",
              "      --hover-bg-color: #434B5C;\n",
              "      --hover-fill-color: #FFFFFF;\n",
              "      --disabled-bg-color: #3B4455;\n",
              "      --disabled-fill-color: #666;\n",
              "  }\n",
              "\n",
              "  .colab-df-quickchart {\n",
              "    background-color: var(--bg-color);\n",
              "    border: none;\n",
              "    border-radius: 50%;\n",
              "    cursor: pointer;\n",
              "    display: none;\n",
              "    fill: var(--fill-color);\n",
              "    height: 32px;\n",
              "    padding: 0;\n",
              "    width: 32px;\n",
              "  }\n",
              "\n",
              "  .colab-df-quickchart:hover {\n",
              "    background-color: var(--hover-bg-color);\n",
              "    box-shadow: 0 1px 2px rgba(60, 64, 67, 0.3), 0 1px 3px 1px rgba(60, 64, 67, 0.15);\n",
              "    fill: var(--button-hover-fill-color);\n",
              "  }\n",
              "\n",
              "  .colab-df-quickchart-complete:disabled,\n",
              "  .colab-df-quickchart-complete:disabled:hover {\n",
              "    background-color: var(--disabled-bg-color);\n",
              "    fill: var(--disabled-fill-color);\n",
              "    box-shadow: none;\n",
              "  }\n",
              "\n",
              "  .colab-df-spinner {\n",
              "    border: 2px solid var(--fill-color);\n",
              "    border-color: transparent;\n",
              "    border-bottom-color: var(--fill-color);\n",
              "    animation:\n",
              "      spin 1s steps(1) infinite;\n",
              "  }\n",
              "\n",
              "  @keyframes spin {\n",
              "    0% {\n",
              "      border-color: transparent;\n",
              "      border-bottom-color: var(--fill-color);\n",
              "      border-left-color: var(--fill-color);\n",
              "    }\n",
              "    20% {\n",
              "      border-color: transparent;\n",
              "      border-left-color: var(--fill-color);\n",
              "      border-top-color: var(--fill-color);\n",
              "    }\n",
              "    30% {\n",
              "      border-color: transparent;\n",
              "      border-left-color: var(--fill-color);\n",
              "      border-top-color: var(--fill-color);\n",
              "      border-right-color: var(--fill-color);\n",
              "    }\n",
              "    40% {\n",
              "      border-color: transparent;\n",
              "      border-right-color: var(--fill-color);\n",
              "      border-top-color: var(--fill-color);\n",
              "    }\n",
              "    60% {\n",
              "      border-color: transparent;\n",
              "      border-right-color: var(--fill-color);\n",
              "    }\n",
              "    80% {\n",
              "      border-color: transparent;\n",
              "      border-right-color: var(--fill-color);\n",
              "      border-bottom-color: var(--fill-color);\n",
              "    }\n",
              "    90% {\n",
              "      border-color: transparent;\n",
              "      border-bottom-color: var(--fill-color);\n",
              "    }\n",
              "  }\n",
              "</style>\n",
              "\n",
              "  <script>\n",
              "    async function quickchart(key) {\n",
              "      const quickchartButtonEl =\n",
              "        document.querySelector('#' + key + ' button');\n",
              "      quickchartButtonEl.disabled = true;  // To prevent multiple clicks.\n",
              "      quickchartButtonEl.classList.add('colab-df-spinner');\n",
              "      try {\n",
              "        const charts = await google.colab.kernel.invokeFunction(\n",
              "            'suggestCharts', [key], {});\n",
              "      } catch (error) {\n",
              "        console.error('Error during call to suggestCharts:', error);\n",
              "      }\n",
              "      quickchartButtonEl.classList.remove('colab-df-spinner');\n",
              "      quickchartButtonEl.classList.add('colab-df-quickchart-complete');\n",
              "    }\n",
              "    (() => {\n",
              "      let quickchartButtonEl =\n",
              "        document.querySelector('#df-f6cab460-8a32-40d6-8941-ac76f9ba8811 button');\n",
              "      quickchartButtonEl.style.display =\n",
              "        google.colab.kernel.accessAllowed ? 'block' : 'none';\n",
              "    })();\n",
              "  </script>\n",
              "</div>\n",
              "\n",
              "    </div>\n",
              "  </div>\n"
            ],
            "text/plain": [
              "        id_order        sku                                               name\n",
              "92117     390730    OWC0218  SSD expansion kit OWC Aura Pro 6G 120GB MacBoo...\n",
              "93198     391819    TPL0036                                                NaN\n",
              "114051    413539    APP1155  Case Apple iPhone 6 Plus / 6s Plus Silicone Ca...\n",
              "186849    494583    PHI0076                   Philips Hue Motion Motion Sensor\n",
              "190724    498974    SYN0093                  Synology Pack 8 IP camera license\n",
              "34558     333106    SAN0098  SanDisk Connect Wireless Flash Drive 32GB Wire...\n",
              "91497     390092    IFR0013   GlassGuard iFrogz iPhone Screen Saver 7 / 6s / 6\n",
              "24518     323388  FCM0016-2    Mac memory FCM 8GB (2x4GB) SO-DIMM DDR3 1333MHz\n",
              "74789     373022    APP0409  Apple 85W MagSafe 2 charger MacBook Pro Retina...\n",
              "162330    466658    SEA0110         Seagate Hard Drive 4TB NAS IronWolf SATA 3"
            ]
          },
          "execution_count": 269,
          "metadata": {},
          "output_type": "execute_result"
        }
      ],
      "source": [
        "orderlines_products = ol_df.merge(p_df, how=\"left\", on = \"sku\")[[\"id_order\",\"sku\",\"name\" ]]\n",
        "orderlines_products.sample(10)"
      ]
    },
    {
      "cell_type": "code",
      "execution_count": null,
      "metadata": {
        "colab": {
          "base_uri": "https://localhost:8080/"
        },
        "id": "XBNh76U_niez",
        "outputId": "6dea24a4-ac40-4946-cfce-ecc3bf12b2df"
      },
      "outputs": [
        {
          "data": {
            "text/plain": [
              "array([299576, 299638, 299695, ..., 527170, 527191, 527367])"
            ]
          },
          "execution_count": 270,
          "metadata": {},
          "output_type": "execute_result"
        }
      ],
      "source": [
        "orders_to_delete = orderlines_products.loc[orderlines_products.name.isna(), \"id_order\"].unique()\n",
        "orders_to_delete"
      ]
    },
    {
      "cell_type": "code",
      "execution_count": null,
      "metadata": {
        "id": "OuCr_7efnuUK"
      },
      "outputs": [],
      "source": [
        "#keeping only the orders in orders and orderlines that are not corrupted"
      ]
    },
    {
      "cell_type": "code",
      "execution_count": null,
      "metadata": {
        "id": "Ip61X1KTn2-Q"
      },
      "outputs": [],
      "source": [
        "o_df = o_df.loc[~o_df.order_id.isin(orders_to_delete),:]"
      ]
    },
    {
      "cell_type": "code",
      "execution_count": null,
      "metadata": {
        "id": "4IeJLaznn4jS"
      },
      "outputs": [],
      "source": [
        "ol_df = ol_df.loc[~ol_df.id_order.isin(orders_to_delete),:]"
      ]
    },
    {
      "cell_type": "code",
      "execution_count": null,
      "metadata": {
        "colab": {
          "base_uri": "https://localhost:8080/"
        },
        "id": "78wf-2I-oFLJ",
        "outputId": "0b2f1a5d-66d3-4f59-dd6b-d11fc52f7a85"
      },
      "outputs": [
        {
          "data": {
            "text/plain": [
              "(163750, 163750)"
            ]
          },
          "execution_count": 274,
          "metadata": {},
          "output_type": "execute_result"
        }
      ],
      "source": [
        "o_df[\"order_id\"].nunique(), ol_df[\"id_order\"].nunique()"
      ]
    },
    {
      "cell_type": "markdown",
      "metadata": {
        "id": "WMS81xm3slRF"
      },
      "source": [
        "**Data status after removal of rows where products were unknown**\n",
        "\n",
        "orders: (226909, 4) => (226909, 4) ==> (226904, 4) ==> (226904, 4) ==> (46605, 4) ==> (43064, 4) ==> (41701, 4)\n",
        "\n",
        "orderlines:(293983, 7) ==> (293983, 7) ==> (293983, 7) ==> (216250, 7) ==> (216250, 7) ==> (56714, 7) ==> (54324, 7)\n",
        "\n",
        "products:(19326, 7) ==> (10580, 7) ==> (10534, 7) ==> (9992, 6) ==> (9992, 6) ==> (9992, 6) ==>  (9992, 6)\n",
        "\n",
        "brands:(187, 2)==> (187, 2) ==> (187, 2) ==> (187, 2) ==> (187, 2) ==> (187, 2) ==> (187, 2)"
      ]
    },
    {
      "cell_type": "markdown",
      "metadata": {
        "id": "ShkCIdHzkBIE"
      },
      "source": [
        "### Removal of outliers"
      ]
    },
    {
      "cell_type": "code",
      "execution_count": null,
      "metadata": {
        "colab": {
          "base_uri": "https://localhost:8080/"
        },
        "id": "CxWkoQoQXL0d",
        "outputId": "1bd66e5b-22a4-438d-a269-c14b36595cfa"
      },
      "outputs": [],
      "source": [
        "#creating a new column with values of the other two tables multiplied\n",
        "ol_df.loc[:,'unit_price_total'] = ol_df['unit_price'] * ol_df['product_quantity']"
      ]
    },
    {
      "cell_type": "code",
      "execution_count": null,
      "metadata": {
        "id": "1kKKHoXtXBWJ"
      },
      "outputs": [],
      "source": [
        "ol_agg = ol_df.groupby(\"id_order\", as_index=False)[\"unit_price_total\"].sum()"
      ]
    },
    {
      "cell_type": "code",
      "execution_count": null,
      "metadata": {
        "id": "TWK1wF-QWxBr"
      },
      "outputs": [],
      "source": [
        "ol_agg_o = ol_agg.merge(o_df, left_on=\"id_order\", right_on=\"order_id\")"
      ]
    },
    {
      "cell_type": "code",
      "execution_count": null,
      "metadata": {
        "id": "sdhA3uCyW2h1"
      },
      "outputs": [],
      "source": [
        "ol_agg_o_dif = ol_agg_o.copy()"
      ]
    },
    {
      "cell_type": "code",
      "execution_count": null,
      "metadata": {
        "id": "WHL9kxVTXatZ"
      },
      "outputs": [],
      "source": [
        "#difference between total_paid and unit_price_total\n",
        "ol_agg_o_dif[\"order_price_dif\"] = ol_agg_o[\"total_paid\"] - ol_agg_o[\"unit_price_total\"]"
      ]
    },
    {
      "cell_type": "code",
      "execution_count": null,
      "metadata": {
        "id": "gWc97mgdkGlb"
      },
      "outputs": [],
      "source": [
        "# Removing outliers from ol_agg_o_diff (orderlines aggregated and merged with orders, dif between total_price and unit_price_total)\n",
        "\n",
        "# Calculating Q1 (25th percentile) and Q3 (75th percentile)\n",
        "Q1 = ol_agg_o_dif[\"order_price_dif\"].quantile(0.25)\n",
        "Q3 = ol_agg_o_dif[\"order_price_dif\"].quantile(0.75)\n",
        "IQR = Q3 - Q1\n",
        "\n",
        "# Defining the outlier range\n",
        "lower_bound = Q1 - 1.5 * IQR\n",
        "upper_bound = Q3 + 1.5 * IQR\n",
        "\n",
        "# Filtering the DataFrame to remove outliers\n",
        "ol_agg_o_dif_no_outliers = ol_agg_o_dif[(ol_agg_o_dif[\"order_price_dif\"] >= lower_bound) & (ol_agg_o_dif[\"order_price_dif\"] <= upper_bound)]"
      ]
    },
    {
      "cell_type": "code",
      "execution_count": null,
      "metadata": {
        "id": "Hxd4OtTakOVi"
      },
      "outputs": [],
      "source": [
        "#Removing the outliers' unique order_id/id_order from orders as well as from orderlines_products merged DataFrame.\n",
        "normal_diff_list = ol_agg_o_dif_no_outliers[\"id_order\"]"
      ]
    },
    {
      "cell_type": "code",
      "execution_count": null,
      "metadata": {
        "id": "JIGhUnQAkP97"
      },
      "outputs": [],
      "source": [
        "o_df = o_df.loc[o_df[\"order_id\"].isin(normal_diff_list),:]"
      ]
    },
    {
      "cell_type": "code",
      "execution_count": null,
      "metadata": {
        "id": "r69ovqiAfHdI"
      },
      "outputs": [],
      "source": [
        "ol_df = ol_df.loc[ol_df[\"id_order\"].isin(normal_diff_list),:]"
      ]
    },
    {
      "cell_type": "code",
      "execution_count": null,
      "metadata": {
        "colab": {
          "base_uri": "https://localhost:8080/"
        },
        "id": "gUmuKTLZkRjB",
        "outputId": "20142025-8e17-4ee8-d876-3bae5545545e"
      },
      "outputs": [
        {
          "data": {
            "text/plain": [
              "(161088, 161088)"
            ]
          },
          "execution_count": 284,
          "metadata": {},
          "output_type": "execute_result"
        }
      ],
      "source": [
        "#40985, 40985\n",
        "o_df[\"order_id\"].nunique(), ol_df[\"id_order\"].nunique()"
      ]
    },
    {
      "cell_type": "markdown",
      "metadata": {
        "id": "sICF_WQOs9vE"
      },
      "source": [
        "**Data status after removal of outliers**\n",
        "\n",
        "orders: (226909, 4) => (226909, 4) ==> (226904, 4) ==> (226904, 4) ==> (46605, 4) ==> (43064, 4) ==> (41701, 4) ==> (40985, 4)\n",
        "\n",
        "orderlines:(293983, 7) ==> (293983, 7) ==> (293983, 7) ==> (216250, 7) ==> (216250, 7) ==> (56714, 7) ==> (54324, 7) ==> (53231, 8)\n",
        "\n",
        "products:(19326, 7) ==> (10580, 7) ==> (10534, 7) ==> (9992, 6) ==> (9992, 6) ==> (9992, 6) ==>  (9992, 6) ==> (9992, 6)\n",
        "\n",
        "brands:(187, 2)==> (187, 2) ==> (187, 2) ==> (187, 2) ==> (187, 2) ==> (187, 2) ==> (187, 2) ==> (187, 2)"
      ]
    },
    {
      "cell_type": "code",
      "execution_count": null,
      "metadata": {
        "colab": {
          "base_uri": "https://localhost:8080/"
        },
        "id": "PmiRaAmS8vgN",
        "outputId": "6a1dcea6-7d0a-4f74-fab1-ac70de36a93f"
      },
      "outputs": [
        {
          "name": "stdout",
          "output_type": "stream",
          "text": [
            "<class 'pandas.core.frame.DataFrame'>\n",
            "Index: 161088 entries, 0 to 226908\n",
            "Data columns (total 4 columns):\n",
            " #   Column        Non-Null Count   Dtype         \n",
            "---  ------        --------------   -----         \n",
            " 0   order_id      161088 non-null  int64         \n",
            " 1   created_date  161088 non-null  datetime64[ns]\n",
            " 2   total_paid    161088 non-null  float64       \n",
            " 3   state         161088 non-null  object        \n",
            "dtypes: datetime64[ns](1), float64(1), int64(1), object(1)\n",
            "memory usage: 6.1+ MB\n"
          ]
        }
      ],
      "source": [
        "o_df.info()"
      ]
    },
    {
      "cell_type": "markdown",
      "metadata": {
        "id": "5wXFgnEncCtw"
      },
      "source": [
        "# Cleaned (and categorized) data sets"
      ]
    },
    {
      "cell_type": "code",
      "execution_count": null,
      "metadata": {
        "id": "3vPEpqjwcE3U"
      },
      "outputs": [],
      "source": [
        "# orders_clean_df.csv\n",
        "orders_clean_df = \"https://drive.google.com/file/d/1ZEuWF3-pKYC-i6fP8unAAG_JMqU2KEyc/view?usp=sharing\"\n",
        "path = \"https://drive.google.com/uc?export=download&id=\"+orders_clean_df.split(\"/\")[-2]\n",
        "orders_clean_df = pd.read_csv(path)\n",
        "\n",
        "# orderlines_clean_df.csv\n",
        "orderlines_clean_df = \"https://drive.google.com/file/d/1IbRAfLGhL7Yf_b8CVkknwhnzsdTBeCIt/view?usp=sharing\"\n",
        "path = \"https://drive.google.com/uc?export=download&id=\"+orderlines_clean_df.split(\"/\")[-2]\n",
        "orderlines_clean_df = pd.read_csv(path)\n",
        "\n",
        "# products_categorized_df.csv\n",
        "products_categorized_df = \"https://drive.google.com/file/d/12O5WsGIjbpwmKb-yU7ovn_UUNntvFOpa/view?usp=sharing\"\n",
        "path = \"https://drive.google.com/uc?export=download&id=\"+products_categorized_df.split(\"/\")[-2]\n",
        "products_categorized_df = pd.read_csv(path)\n",
        "\n",
        "# brands_clean_df.csv\n",
        "brands_clean_df = \"https://drive.google.com/file/d/1V33HMpSmSLjWSzmGv4is26QKIC_cqNpk/view?usp=sharing\"\n",
        "path = \"https://drive.google.com/uc?export=download&id=\"+brands_clean_df.split(\"/\")[-2]\n",
        "brands_clean_df = pd.read_csv(path)"
      ]
    }
  ],
  "metadata": {
    "colab": {
      "provenance": []
    },
    "kernelspec": {
      "display_name": "Python 3",
      "name": "python3"
    },
    "language_info": {
      "name": "python"
    }
  },
  "nbformat": 4,
  "nbformat_minor": 0
}
